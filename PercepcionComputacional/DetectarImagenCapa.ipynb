{
 "cells": [
  {
   "cell_type": "markdown",
   "metadata": {},
   "source": [
    "### Detectar Imagenes Capa"
   ]
  },
  {
   "cell_type": "code",
   "execution_count": 1,
   "metadata": {},
   "outputs": [],
   "source": [
    "import numpy as np\n",
    "import cv2\n",
    "import time"
   ]
  },
  {
   "cell_type": "code",
   "execution_count": 17,
   "metadata": {},
   "outputs": [],
   "source": [
    "def imagen_detec(imagen):\n",
    "    img = np.fliplr(imagen)    \n",
    "    hsv = cv2.cvtColor(img,cv2.COLOR_BGR2HSV)    \n",
    "    low_green = np.array([72, 36, 92])\n",
    "    high_green = np.array([86, 39, 95])\n",
    "    mask1 = cv2.inRange(hsv, low_green, high_green)   \n",
    "    cv2.imshow('image',mask1)\n",
    "    cv2.waitKey(0)\n",
    "    cv2.destroyAllWindows()\n",
    "    lower_green = np.array([77,55,73])\n",
    "    upper_green = np.array([80,65,78])\n",
    "    mask2 = cv2.inRange(hsv,lower_green,upper_green)\n",
    "    mask1 = mask1+mask2\n",
    "    mask1 = cv2.morphologyEx(mask1, cv2.MORPH_OPEN, np.ones((3,3),np.uint8))\n",
    "    mask1 = cv2.morphologyEx(mask1, cv2.MORPH_DILATE, np.ones((3,3),np.uint8))\n",
    "    mask2 = cv2.bitwise_not(mask1)\n",
    "    res1 = cv2.bitwise_and(img,img,mask=mask2)\n",
    "    #res2 = cv2.bitwise_and(background, background, mask = mask1)\n",
    "    final_output = cv2.addWeighted(res1,1,res1,1,0)\n",
    "    return final_output"
   ]
  },
  {
   "cell_type": "code",
   "execution_count": 18,
   "metadata": {},
   "outputs": [],
   "source": [
    "img = cv2.imread('images/WIN_20200526_12_59_11_Pro.jpg')\n",
    "img_res = imagen_detec(img)\n",
    "\n",
    "cv2.imshow('image',img_res)\n",
    "cv2.waitKey(0)\n",
    "cv2.destroyAllWindows()\n"
   ]
  }
 ],
 "metadata": {
  "kernelspec": {
   "display_name": "Python 3",
   "language": "python",
   "name": "python3"
  },
  "language_info": {
   "codemirror_mode": {
    "name": "ipython",
    "version": 3
   },
   "file_extension": ".py",
   "mimetype": "text/x-python",
   "name": "python",
   "nbconvert_exporter": "python",
   "pygments_lexer": "ipython3",
   "version": "3.7.6"
  }
 },
 "nbformat": 4,
 "nbformat_minor": 4
}
