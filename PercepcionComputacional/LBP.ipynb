{
 "cells": [
  {
   "cell_type": "markdown",
   "metadata": {},
   "source": [
    "LBP"
   ]
  },
  {
   "cell_type": "code",
   "execution_count": 2,
   "metadata": {},
   "outputs": [],
   "source": [
    "import math\n",
    "import numpy as np\n",
    "import skimage.io as io\n",
    "import matplotlib.pyplot as plt\n",
    "from skimage.feature import greycomatrix, greycoprops\n",
    "from skimage.util import img_as_ubyte"
   ]
  },
  {
   "cell_type": "code",
   "execution_count": 10,
   "metadata": {},
   "outputs": [],
   "source": [
    "def esUniforme(cadena):\n",
    "    cambios = 0\n",
    "    bit = cadena[0]\n",
    "    for i in range(1,len(cadena)):\n",
    "        if not bit == cadena[i]:\n",
    "            cambios +=1\n",
    "            bit = cadena[i]            \n",
    "    return (True,cambios) if cambios<=2 else (False,cambios)"
   ]
  },
  {
   "cell_type": "code",
   "execution_count": 16,
   "metadata": {},
   "outputs": [
    {
     "name": "stdout",
     "output_type": "stream",
     "text": [
      "(True, 0)\n",
      "(True, 1)\n",
      "(True, 2)\n",
      "(False, 3)\n",
      "(True, 1)\n",
      "(True, 2)\n",
      "(True, 2)\n",
      "(False, 3)\n"
     ]
    }
   ],
   "source": [
    "print(esUniforme('00000'))\n",
    "print(esUniforme('011111'))\n",
    "print(esUniforme('011110'))\n",
    "print(esUniforme('0111101'))\n",
    "print(esUniforme('011'))\n",
    "print(esUniforme('010'))\n",
    "print(esUniforme('0100'))\n",
    "print(esUniforme('01001'))"
   ]
  },
  {
   "cell_type": "code",
   "execution_count": 17,
   "metadata": {},
   "outputs": [],
   "source": [
    "def convertirDecimal(cadena): \n",
    "    return int(cadena,2) "
   ]
  },
  {
   "cell_type": "code",
   "execution_count": 21,
   "metadata": {},
   "outputs": [
    {
     "data": {
      "text/plain": [
       "0"
      ]
     },
     "metadata": {},
     "output_type": "display_data"
    },
    {
     "data": {
      "text/plain": [
       "2"
      ]
     },
     "metadata": {},
     "output_type": "display_data"
    },
    {
     "data": {
      "text/plain": [
       "5"
      ]
     },
     "metadata": {},
     "output_type": "display_data"
    },
    {
     "data": {
      "text/plain": [
       "7"
      ]
     },
     "metadata": {},
     "output_type": "display_data"
    }
   ],
   "source": [
    "display(convertirDecimal('00'))\n",
    "display(convertirDecimal('10'))\n",
    "display(convertirDecimal('101'))\n",
    "display(convertirDecimal('111'))"
   ]
  },
  {
   "cell_type": "code",
   "execution_count": 66,
   "metadata": {},
   "outputs": [],
   "source": [
    "def menorCadena(cadena):\n",
    "    cadenaTemp = cadena\n",
    "    bit = ''\n",
    "    minValor = int(cadenaTemp,2) \n",
    "    cadenaMin = cadenaTemp\n",
    "    for i in range(len(cadena)):        \n",
    "        \n",
    "        minValorTemp = int(cadenaTemp,2) \n",
    "        if minValorTemp<minValor:\n",
    "            minValor = minValorTemp\n",
    "            cadenaMin = cadenaTemp\n",
    "        bit = cadenaTemp[-1]\n",
    "        cadenaTemp = cadenaTemp[:-1]        \n",
    "        cadenaTemp = bit + cadenaTemp\n",
    "        print(cadenaTemp)\n",
    "    return cadenaMin,minValor       "
   ]
  },
  {
   "cell_type": "code",
   "execution_count": 69,
   "metadata": {},
   "outputs": [
    {
     "name": "stdout",
     "output_type": "stream",
     "text": [
      "011\n",
      "101\n",
      "110\n"
     ]
    },
    {
     "data": {
      "text/plain": [
       "('011', 3)"
      ]
     },
     "metadata": {},
     "output_type": "display_data"
    },
    {
     "name": "stdout",
     "output_type": "stream",
     "text": [
      "11100\n",
      "01110\n",
      "00111\n",
      "10011\n",
      "11001\n"
     ]
    },
    {
     "data": {
      "text/plain": [
       "('00111', 7)"
      ]
     },
     "metadata": {},
     "output_type": "display_data"
    },
    {
     "name": "stdout",
     "output_type": "stream",
     "text": [
      "01010110\n",
      "00101011\n",
      "10010101\n",
      "11001010\n",
      "01100101\n",
      "10110010\n",
      "01011001\n",
      "10101100\n"
     ]
    },
    {
     "data": {
      "text/plain": [
       "('00101011', 43)"
      ]
     },
     "metadata": {},
     "output_type": "display_data"
    }
   ],
   "source": [
    "display(menorCadena('110'))\n",
    "display(menorCadena('11001'))\n",
    "display(menorCadena('10101100'))"
   ]
  }
 ],
 "metadata": {
  "kernelspec": {
   "display_name": "Python 3",
   "language": "python",
   "name": "python3"
  },
  "language_info": {
   "codemirror_mode": {
    "name": "ipython",
    "version": 3
   },
   "file_extension": ".py",
   "mimetype": "text/x-python",
   "name": "python",
   "nbconvert_exporter": "python",
   "pygments_lexer": "ipython3",
   "version": "3.7.6"
  }
 },
 "nbformat": 4,
 "nbformat_minor": 4
}
