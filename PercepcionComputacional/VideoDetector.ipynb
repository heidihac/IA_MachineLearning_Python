{
 "cells": [
  {
   "cell_type": "markdown",
   "metadata": {},
   "source": [
    "### Video Detector"
   ]
  },
  {
   "cell_type": "code",
   "execution_count": 17,
   "metadata": {},
   "outputs": [],
   "source": [
    "import numpy as np\n",
    "import cv2\n",
    "import time"
   ]
  },
  {
   "cell_type": "code",
   "execution_count": 52,
   "metadata": {},
   "outputs": [],
   "source": [
    "def video_detec(cap):   \n",
    "    background=0\n",
    "    time.sleep(3)\n",
    "    for i in range(30):\n",
    "      ret,background = cap.read()\n",
    "    # Laterally invert the image / flip the image.\n",
    "    background = np.flip(background,axis=1)\n",
    "\n",
    "    # Capturing the live frame\n",
    "    ret, img = cap.read()\n",
    "\n",
    "    # Laterally invert the image / flip the image\n",
    "    #img=np.flip(img,axis=1)\n",
    "    img = np.fliplr(img)\n",
    "    # converting from BGR to HSV color space\n",
    "    hsv = cv2.cvtColor(img,cv2.COLOR_BGR2HSV)\n",
    "\n",
    "    # Range for lower red\n",
    "    \n",
    "    #lower_red = np.array([0,70,50])\n",
    "    #upper_red = np.array([10,255,255])\n",
    "    #mask1 = cv2.inRange(hsv, lower_red, upper_red)\n",
    "    \n",
    "    low_green = np.array([72, 0.392, 0.980])\n",
    "    high_green = np.array([86, 0.36, 0.933])\n",
    "    mask1 = cv2.inRange(hsv, low_green, high_green)\n",
    "       \n",
    "\n",
    "    # Range for upper range\n",
    "    #lower_red = np.array([170,70,50])\n",
    "    #upper_red = np.array([180,255,255])\n",
    "    #mask2 = cv2.inRange(hsv,lower_red,upper_red)\n",
    "    \n",
    "    lower_green = np.array([77,0.55,0.73])\n",
    "    upper_green = np.array([80,0.65,0.78])\n",
    "    mask2 = cv2.inRange(hsv,lower_green,upper_green)\n",
    "\n",
    "    # Generating the final mask to detect red color\n",
    "    mask1 = mask1+mask2\n",
    "\n",
    "    mask1 = cv2.morphologyEx(mask1, cv2.MORPH_OPEN, np.ones((3,3),np.uint8))\n",
    "    mask1 = cv2.morphologyEx(mask1, cv2.MORPH_DILATE, np.ones((3,3),np.uint8))\n",
    "\n",
    "\n",
    "    #creating an inverted mask to segment out the cloth from the frame\n",
    "    mask2 = cv2.bitwise_not(mask1)\n",
    "\n",
    "\n",
    "    #Segmenting the cloth out of the frame using bitwise and with the inverted mask\n",
    "    res1 = cv2.bitwise_and(img,img,mask=mask2)\n",
    "\n",
    "    # creating image showing static background frame pixels only for the masked region\n",
    "    res2 = cv2.bitwise_and(background, background, mask = mask1)\n",
    "\n",
    "\n",
    "    #Generating the final output\n",
    "    final_output = cv2.addWeighted(res1,1,res2,1,0)\n",
    "    return final_output"
   ]
  },
  {
   "cell_type": "code",
   "execution_count": 54,
   "metadata": {},
   "outputs": [],
   "source": [
    "cap = cv2.VideoCapture(0)\n",
    "while(True):\n",
    "    # Capture frame-by-frame\n",
    "    #ret, frame = cap.read()\n",
    "\n",
    "    # Our operations on the frame come here\n",
    "    #gray = cv2.cvtColor(frame, cv2.COLOR_BGR2GRAY)\n",
    "    final_output = video_detec(cap)\n",
    "    # Display the resulting frameq\n",
    "    cv2.imshow('frame',final_output)\n",
    "    if cv2.waitKey(1) & 0xFF == ord('q'):\n",
    "        break\n",
    "# When everything done, release the capture\n",
    "cap.release()\n",
    "cv2.destroyAllWindows()"
   ]
  },
  {
   "cell_type": "code",
   "execution_count": null,
   "metadata": {},
   "outputs": [],
   "source": [
    "# Creating a VideoCapture object\n",
    "# This will be used for image acquisition later in the code.\n"
   ]
  }
 ],
 "metadata": {
  "kernelspec": {
   "display_name": "Python 3",
   "language": "python",
   "name": "python3"
  },
  "language_info": {
   "codemirror_mode": {
    "name": "ipython",
    "version": 3
   },
   "file_extension": ".py",
   "mimetype": "text/x-python",
   "name": "python",
   "nbconvert_exporter": "python",
   "pygments_lexer": "ipython3",
   "version": "3.7.6"
  }
 },
 "nbformat": 4,
 "nbformat_minor": 4
}
