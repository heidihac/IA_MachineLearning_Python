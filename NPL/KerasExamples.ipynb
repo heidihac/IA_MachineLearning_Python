{
 "cells": [
  {
   "cell_type": "code",
   "execution_count": 4,
   "metadata": {},
   "outputs": [
    {
     "name": "stdout",
     "output_type": "stream",
     "text": [
      "[[     nan      nan      nan      nan]\n",
      " [2.00e+00 5.00e+01 1.25e+04 9.80e+01]\n",
      " [0.00e+00 1.30e+01 3.25e+03 2.80e+01]\n",
      " ...\n",
      " [2.30e+01 3.00e+00 7.50e+02 6.20e+01]\n",
      " [3.90e+01 1.00e+00 2.50e+02 3.90e+01]\n",
      " [7.20e+01 1.00e+00 2.50e+02 7.20e+01]]\n"
     ]
    }
   ],
   "source": [
    "import keras\n",
    "from keras.layers import Dense\n",
    "from keras.models import Sequential\n",
    "import numpy as np\n",
    "# Dataset Link : # https://archive.ics.uci.edu/ml/datasets/Blood+Transfusion+Service+Center\n",
    "# Save the dataset as a .csv file :\n",
    "tran_ = np.genfromtxt('transfusion.data', delimiter=',')\n",
    "X=tran_[:,0:4] # The dataset offers 4 input variables\n",
    "Y=tran_[:,4] # Target variable with '1' and '0'\n",
    "print(X)"
   ]
  },
  {
   "cell_type": "code",
   "execution_count": 7,
   "metadata": {},
   "outputs": [],
   "source": [
    "mlp_keras = Sequential()\n",
    "mlp_keras.add(Dense(8, input_dim=4, activation='relu'))\n",
    "mlp_keras.add(Dense(6,  activation='relu'))\n",
    "mlp_keras.add(Dense(1,  activation='sigmoid'))"
   ]
  },
  {
   "cell_type": "code",
   "execution_count": 11,
   "metadata": {},
   "outputs": [
    {
     "data": {
      "text/plain": [
       "<tensorflow.python.keras.callbacks.History at 0x25939167188>"
      ]
     },
     "execution_count": 11,
     "metadata": {},
     "output_type": "execute_result"
    }
   ],
   "source": [
    "mlp_keras.compile(loss = 'binary_crossentropy', optimizer='adam',metrics=['accuracy'])\n",
    "mlp_keras.fit(X,Y, epochs=200, batch_size=8, verbose=0)"
   ]
  },
  {
   "cell_type": "code",
   "execution_count": 12,
   "metadata": {},
   "outputs": [
    {
     "name": "stdout",
     "output_type": "stream",
     "text": [
      "24/24 [==============================] - 0s 1ms/step - loss: nan - accuracy: 0.7610\n",
      "Accuracy : 76.10% \n"
     ]
    }
   ],
   "source": [
    "accuracy = mlp_keras.evaluate(X,Y)\n",
    "print(\"Accuracy : %.2f%% \" % (accuracy[1]*100 ))"
   ]
  },
  {
   "cell_type": "code",
   "execution_count": 13,
   "metadata": {},
   "outputs": [],
   "source": [
    "from keras.optimizers import SGD\n",
    "opt = SGD(lr=0.01)\n",
    "mlp_optim = Sequential()\n",
    "mlp_optim.add(Dense(8, input_dim=4, activation='relu'))\n",
    "mlp_optim.add(Dense(6,  activation='relu'))\n",
    "mlp_optim.add(Dense(1, activation='sigmoid'))"
   ]
  },
  {
   "cell_type": "code",
   "execution_count": 14,
   "metadata": {},
   "outputs": [
    {
     "name": "stdout",
     "output_type": "stream",
     "text": [
      "24/24 [==============================] - 0s 2ms/step - loss: nan - accuracy: 0.7610\n",
      "Accuracy : 76.10%\n"
     ]
    }
   ],
   "source": [
    "mlp_optim.compile(loss = 'binary_crossentropy', optimizer=opt, metrics=['accuracy'])\n",
    "# Fitting the model and checking accuracy\n",
    "mlp_optim.fit(X,Y, validation_split=0.3, epochs=150, batch_size=10, verbose=0)\n",
    "results_optim = mlp_optim.evaluate(X,Y)\n",
    "print(\"Accuracy : %.2f%%\" % (results_optim[1]*100 ) )"
   ]
  }
 ],
 "metadata": {
  "kernelspec": {
   "display_name": "Python 3",
   "language": "python",
   "name": "python3"
  },
  "language_info": {
   "codemirror_mode": {
    "name": "ipython",
    "version": 3
   },
   "file_extension": ".py",
   "mimetype": "text/x-python",
   "name": "python",
   "nbconvert_exporter": "python",
   "pygments_lexer": "ipython3",
   "version": "3.7.6"
  }
 },
 "nbformat": 4,
 "nbformat_minor": 4
}
