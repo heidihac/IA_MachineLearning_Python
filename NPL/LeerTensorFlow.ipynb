{
 "cells": [
  {
   "cell_type": "code",
   "execution_count": 2,
   "metadata": {},
   "outputs": [],
   "source": [
    "import matplotlib.pyplot as plt\n",
    "import numpy as np\n",
    "import tensorflow as tf\n",
    "images =  tf.keras.datasets.mnist"
   ]
  },
  {
   "cell_type": "code",
   "execution_count": 20,
   "metadata": {},
   "outputs": [
    {
     "name": "stdout",
     "output_type": "stream",
     "text": [
      "\n",
      "Begin show MNIST image \n",
      "\n",
      "00 00 00 00 00 00 00 00 00 00 00 00 00 00 00 00 00 00 00 00 00 00 00 00 00 00 00 00 \n",
      "00 00 00 00 00 00 00 00 00 00 00 00 00 00 00 00 00 00 00 00 00 00 00 00 00 00 00 00 \n",
      "00 00 00 00 00 00 00 00 00 00 00 00 00 00 00 00 00 00 00 00 00 00 00 00 00 00 00 00 \n",
      "00 00 00 00 00 00 00 00 00 00 00 00 00 00 00 00 00 00 00 00 00 00 00 00 00 00 00 00 \n",
      "00 00 00 00 00 00 00 00 00 00 00 00 00 00 00 00 00 00 00 00 00 00 00 00 00 00 00 00 \n",
      "00 00 00 00 00 00 00 00 00 00 00 00 00 00 00 0D 19 64 7A 07 00 00 00 00 00 00 00 00 \n",
      "00 00 00 00 00 00 00 00 00 00 00 00 00 21 97 D0 FC FC FC 92 00 00 00 00 00 00 00 00 \n",
      "00 00 00 00 00 00 00 00 00 00 00 28 98 F4 FC FD E0 D3 FC E8 28 00 00 00 00 00 00 00 \n",
      "00 00 00 00 00 00 00 00 00 0F 98 EF FC FC FC D8 1F 25 FC FC 3C 00 00 00 00 00 00 00 \n",
      "00 00 00 00 00 00 00 00 00 60 FC FC FC FC D9 1D 00 25 FC FC 3C 00 00 00 00 00 00 00 \n",
      "00 00 00 00 00 00 00 00 00 B5 FC FC DC A7 1E 00 00 4D FC FC 3C 00 00 00 00 00 00 00 \n",
      "00 00 00 00 00 00 00 00 00 1A 80 3A 16 00 00 00 00 64 FC FC 3C 00 00 00 00 00 00 00 \n",
      "00 00 00 00 00 00 00 00 00 00 00 00 00 00 00 00 00 9D FC FC 3C 00 00 00 00 00 00 00 \n",
      "00 00 00 00 00 00 00 00 00 00 00 00 00 6E 79 7A 79 CA FC C2 03 00 00 00 00 00 00 00 \n",
      "00 00 00 00 00 00 00 00 00 00 0A 35 B3 FD FD FF FD FD E4 23 00 00 00 00 00 00 00 00 \n",
      "00 00 00 00 00 00 00 00 05 36 E3 FC F3 E4 AA F2 FC FC E7 75 06 00 00 00 00 00 00 00 \n",
      "00 00 00 00 00 00 00 06 4E FC FC 7D 3B 00 12 D0 FC FC FC FC 57 07 00 00 00 00 00 00 \n",
      "00 00 00 00 00 00 05 87 FC FC B4 10 00 15 CB FD F7 81 AD FC FC B8 42 31 31 00 00 00 \n",
      "00 00 00 00 00 03 88 FC F1 6A 11 00 35 C8 FC D8 41 00 0E 48 A3 F1 FC FC DF 00 00 00 \n",
      "00 00 00 00 00 69 FC F2 58 12 49 AA F4 FC 7E 1D 00 00 00 00 00 59 B4 B4 25 00 00 00 \n",
      "00 00 00 00 00 E7 FC F5 CD D8 FC FC FC 7C 03 00 00 00 00 00 00 00 00 00 00 00 00 00 \n",
      "00 00 00 00 00 CF FC FC FC FC B2 74 24 04 00 00 00 00 00 00 00 00 00 00 00 00 00 00 \n",
      "00 00 00 00 00 0D 5D 8F 79 17 06 00 00 00 00 00 00 00 00 00 00 00 00 00 00 00 00 00 \n",
      "00 00 00 00 00 00 00 00 00 00 00 00 00 00 00 00 00 00 00 00 00 00 00 00 00 00 00 00 \n",
      "00 00 00 00 00 00 00 00 00 00 00 00 00 00 00 00 00 00 00 00 00 00 00 00 00 00 00 00 \n",
      "00 00 00 00 00 00 00 00 00 00 00 00 00 00 00 00 00 00 00 00 00 00 00 00 00 00 00 00 \n",
      "00 00 00 00 00 00 00 00 00 00 00 00 00 00 00 00 00 00 00 00 00 00 00 00 00 00 00 00 \n",
      "00 00 00 00 00 00 00 00 00 00 00 00 00 00 00 00 00 00 00 00 00 00 00 00 00 00 00 00 \n",
      "\n",
      "digit =  2\n"
     ]
    },
    {
     "data": {
      "image/png": "[encoded data removed]",
      "text/plain": [
       "<Figure size 432x288 with 1 Axes>"
      ]
     },
     "metadata": {
      "needs_background": "light"
     },
     "output_type": "display_data"
    },
    {
     "name": "stdout",
     "output_type": "stream",
     "text": [
      "\n",
      "End \n",
      "\n"
     ]
    }
   ],
   "source": [
    "import numpy as np\n",
    "import keras as K\n",
    "import matplotlib.pyplot as plt\n",
    "\n",
    "def main():\n",
    "  print(\"\\nBegin show MNIST image \\n\")\n",
    "  (train_x, train_y), (test_x, test_y) = K.datasets.mnist.load_data()\n",
    "  contador = 5\n",
    "  d = train_x[contador]\n",
    "  d = d.reshape(28,28)\n",
    "  for row in range(0,28):\n",
    "    for col in range(0,28):\n",
    "      print(\"%02X \" % d[row][col], end=\"\")\n",
    "    print(\"\") \n",
    "\n",
    "  lbl = train_y[contador]\n",
    "  print(\"\\ndigit = \", lbl)\n",
    "\n",
    "  plt.imshow(d, cmap=plt.get_cmap('gray_r'))\n",
    "  plt.show()  \n",
    "\n",
    "  print(\"\\nEnd \\n\")\n",
    "\n",
    "if __name__ == \"__main__\":\n",
    "  main()"
   ]
  }
 ],
 "metadata": {
  "kernelspec": {
   "display_name": "Python 3",
   "language": "python",
   "name": "python3"
  },
  "language_info": {
   "codemirror_mode": {
    "name": "ipython",
    "version": 3
   },
   "file_extension": ".py",
   "mimetype": "text/x-python",
   "name": "python",
   "nbconvert_exporter": "python",
   "pygments_lexer": "ipython3",
   "version": "3.7.6"
  }
 },
 "nbformat": 4,
 "nbformat_minor": 4
}
