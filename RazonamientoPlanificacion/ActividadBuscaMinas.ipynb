{
 "cells": [
  {
   "cell_type": "markdown",
   "metadata": {},
   "source": [
    "'M' representa una mina no revelada, \n",
    "\n",
    "'V' representa una celda vacía no revelada, \n",
    "\n",
    "'B' representa una celda en blanco revelada que no tiene minas adyacentes (arriba, abajo, izquierda, derecha y las 4 diagonales), \n",
    "\n",
    "Un dígito del ('1' a '8') representa cuántas minas hay adyacentes a esta celda revelada, \n",
    "\n",
    "'X' representa una mina revelada."
   ]
  },
  {
   "cell_type": "code",
   "execution_count": 9,
   "metadata": {},
   "outputs": [],
   "source": []
  },
  {
   "cell_type": "code",
   "execution_count": 150,
   "metadata": {},
   "outputs": [],
   "source": [
    "import numpy as np\n",
    "class Buscaminas:\n",
    "    def __init__(self,tablero):\n",
    "        self.tablero = tablero        \n",
    "    def clicPosicion(self,fila, columna):        \n",
    "        (i,j) = fila,columna\n",
    "        nfil,ncols = self.tablero.shape\n",
    "        if i<0 or i >= nfil:\n",
    "            raise(\"Fuera rango filas\")\n",
    "        if j<0 or j >= ncols:\n",
    "            raise(\"Fuera rango columnas\")\n",
    "        celda = self.tablero[i,j]\n",
    "        if self.esMinaNoRevelada(celda): \n",
    "            self.tablero[i,j] = 'X'\n",
    "            raise Exception('fin Juego')\n",
    "        if self.esCeldaNoRevelada(celda):\n",
    "            posAdy = self.bucarPosAdayacentes(i,j)\n",
    "            nminas = self.contarMinasAdayacentes(posAdy)\n",
    "            if nminas == 0:\n",
    "                self.tablero[i,j] = 'B'\n",
    "            else:\n",
    "                self.tablero[i,j] = str(nminas)\n",
    "    \n",
    "    @staticmethod\n",
    "    def esMinaNoRevelada(celda):\n",
    "        if celda == 'M': \n",
    "            return True\n",
    "        \n",
    "    @staticmethod\n",
    "    def esCeldaNoRevelada(celda):\n",
    "        if celda == 'V': \n",
    "            return True\n",
    "        \n",
    "    @staticmethod\n",
    "    def esMina(celda):\n",
    "        if celda == 'M': \n",
    "            return True\n",
    "        \n",
    "    @staticmethod\n",
    "    def bucarPosAdayacentes(i,j):\n",
    "        arrPos = []\n",
    "        for m in range(i-1,i+2):            \n",
    "            for n in range(j-1,j+2):            \n",
    "                if(i==m and j==n):\n",
    "                    continue\n",
    "                else:\n",
    "                    arrPos.append([m,n])                \n",
    "        return np.array(arrPos)\n",
    "    \n",
    "    def contarMinasAdayacentes(self,posAdayacentes):\n",
    "        nfil,ncols = self.tablero.shape\n",
    "        nminas = 0\n",
    "        for (i,j) in posAdayacentes:\n",
    "            if i<0 or i >= nfil:\n",
    "                continue\n",
    "            if j<0 or j >= ncols:\n",
    "                continue\n",
    "            celda = self.tablero[i,j]\n",
    "            if self.esMina(celda): \n",
    "                nminas+=1 \n",
    "        return nminas\n",
    "                \n",
    "    def imprimirTablero(self):        \n",
    "        print(self.tablero)        "
   ]
  },
  {
   "cell_type": "code",
   "execution_count": 151,
   "metadata": {},
   "outputs": [
    {
     "name": "stdout",
     "output_type": "stream",
     "text": [
      "[['V' 'V' 'V']\n",
      " ['V' 'V' 'V']\n",
      " ['M' 'V' 'V']]\n",
      "[['V' 'V' 'B']\n",
      " ['V' 'V' 'V']\n",
      " ['M' 'V' 'V']]\n"
     ]
    }
   ],
   "source": [
    "tablero = np.array([\n",
    "            ['V', 'V', 'V'], \n",
    "            ['V', 'V', 'V'], \n",
    "            ['M', 'V', 'V'] \n",
    "        ])        \n",
    "fila = 0;\n",
    "columna = 2;\n",
    "juego = Buscaminas(tablero)\n",
    "juego.imprimirTablero()\n",
    "juego.clicPosicion(fila, columna)\n",
    "juego.imprimirTablero()"
   ]
  },
  {
   "cell_type": "code",
   "execution_count": 149,
   "metadata": {},
   "outputs": [
    {
     "ename": "Exception",
     "evalue": "fin Juego",
     "output_type": "error",
     "traceback": [
      "\u001b[1;31m---------------------------------------------------------------------------\u001b[0m",
      "\u001b[1;31mException\u001b[0m                                 Traceback (most recent call last)",
      "\u001b[1;32m<ipython-input-149-7e178dfbdc37>\u001b[0m in \u001b[0;36m<module>\u001b[1;34m\u001b[0m\n\u001b[0;32m      6\u001b[0m \u001b[0mfil\u001b[0m\u001b[1;33m,\u001b[0m\u001b[0mcol\u001b[0m\u001b[1;33m=\u001b[0m\u001b[0mtablero2\u001b[0m\u001b[1;33m.\u001b[0m\u001b[0mshape\u001b[0m\u001b[1;33m\u001b[0m\u001b[1;33m\u001b[0m\u001b[0m\n\u001b[0;32m      7\u001b[0m \u001b[0mjuego2\u001b[0m \u001b[1;33m=\u001b[0m \u001b[0mBuscaminas\u001b[0m\u001b[1;33m(\u001b[0m\u001b[0mtablero2\u001b[0m\u001b[1;33m)\u001b[0m\u001b[1;33m\u001b[0m\u001b[1;33m\u001b[0m\u001b[0m\n\u001b[1;32m----> 8\u001b[1;33m \u001b[0mjuego2\u001b[0m\u001b[1;33m.\u001b[0m\u001b[0mclicPosicion\u001b[0m\u001b[1;33m(\u001b[0m\u001b[1;36m2\u001b[0m\u001b[1;33m,\u001b[0m\u001b[1;36m0\u001b[0m\u001b[1;33m)\u001b[0m\u001b[1;33m\u001b[0m\u001b[1;33m\u001b[0m\u001b[0m\n\u001b[0m",
      "\u001b[1;32m<ipython-input-146-4740383c0731>\u001b[0m in \u001b[0;36mclicPosicion\u001b[1;34m(self, fila, columna)\u001b[0m\n\u001b[0;32m     13\u001b[0m         \u001b[1;32mif\u001b[0m \u001b[0mself\u001b[0m\u001b[1;33m.\u001b[0m\u001b[0mesMinaNoRevelada\u001b[0m\u001b[1;33m(\u001b[0m\u001b[0mcelda\u001b[0m\u001b[1;33m)\u001b[0m\u001b[1;33m:\u001b[0m\u001b[1;33m\u001b[0m\u001b[1;33m\u001b[0m\u001b[0m\n\u001b[0;32m     14\u001b[0m             \u001b[0mself\u001b[0m\u001b[1;33m.\u001b[0m\u001b[0mtablero\u001b[0m\u001b[1;33m[\u001b[0m\u001b[0mi\u001b[0m\u001b[1;33m,\u001b[0m\u001b[0mj\u001b[0m\u001b[1;33m]\u001b[0m \u001b[1;33m=\u001b[0m \u001b[1;34m'X'\u001b[0m\u001b[1;33m\u001b[0m\u001b[1;33m\u001b[0m\u001b[0m\n\u001b[1;32m---> 15\u001b[1;33m             \u001b[1;32mraise\u001b[0m \u001b[0mException\u001b[0m\u001b[1;33m(\u001b[0m\u001b[1;34m'fin Juego'\u001b[0m\u001b[1;33m)\u001b[0m\u001b[1;33m\u001b[0m\u001b[1;33m\u001b[0m\u001b[0m\n\u001b[0m\u001b[0;32m     16\u001b[0m         \u001b[1;32mif\u001b[0m \u001b[0mself\u001b[0m\u001b[1;33m.\u001b[0m\u001b[0mesCeldaNoRevelada\u001b[0m\u001b[1;33m(\u001b[0m\u001b[0mcelda\u001b[0m\u001b[1;33m)\u001b[0m\u001b[1;33m:\u001b[0m\u001b[1;33m\u001b[0m\u001b[1;33m\u001b[0m\u001b[0m\n\u001b[0;32m     17\u001b[0m             \u001b[0mposAdy\u001b[0m \u001b[1;33m=\u001b[0m \u001b[0mself\u001b[0m\u001b[1;33m.\u001b[0m\u001b[0mbucarPosAdayacentes\u001b[0m\u001b[1;33m(\u001b[0m\u001b[0mi\u001b[0m\u001b[1;33m,\u001b[0m\u001b[0mj\u001b[0m\u001b[1;33m)\u001b[0m\u001b[1;33m\u001b[0m\u001b[1;33m\u001b[0m\u001b[0m\n",
      "\u001b[1;31mException\u001b[0m: fin Juego"
     ]
    }
   ],
   "source": [
    "tablero2 = np.array([\n",
    "            ['V', 'V', 'V'], \n",
    "            ['V', 'V', 'V'], \n",
    "            ['M', 'V', 'V'] \n",
    "        ])      \n",
    "fil,col=tablero2.shape\n",
    "juego2 = Buscaminas(tablero2)\n",
    "juego2.clicPosicion(2,0)"
   ]
  },
  {
   "cell_type": "code",
   "execution_count": null,
   "metadata": {},
   "outputs": [],
   "source": []
  }
 ],
 "metadata": {
  "kernelspec": {
   "display_name": "Python 3",
   "language": "python",
   "name": "python3"
  },
  "language_info": {
   "codemirror_mode": {
    "name": "ipython",
    "version": 3
   },
   "file_extension": ".py",
   "mimetype": "text/x-python",
   "name": "python",
   "nbconvert_exporter": "python",
   "pygments_lexer": "ipython3",
   "version": "3.7.6"
  }
 },
 "nbformat": 4,
 "nbformat_minor": 4
}
