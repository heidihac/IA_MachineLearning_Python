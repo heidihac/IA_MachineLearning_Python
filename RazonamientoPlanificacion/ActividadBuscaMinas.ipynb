{
 "cells": [
  {
   "cell_type": "markdown",
   "metadata": {},
   "source": [
    "'M' representa una mina no revelada, \n",
    "\n",
    "'V' representa una celda vacía no revelada, \n",
    "\n",
    "'B' representa una celda en blanco revelada que no tiene minas adyacentes (arriba, abajo, izquierda, derecha y las 4 diagonales), \n",
    "\n",
    "Un dígito del ('1' a '8') representa cuántas minas hay adyacentes a esta celda revelada, \n",
    "\n",
    "'X' representa una mina revelada."
   ]
  },
  {
   "cell_type": "code",
   "execution_count": 63,
   "metadata": {},
   "outputs": [],
   "source": [
    "class Nodo:\n",
    "    def __init__(self,nodo,valor,nodosHijos=[],nminas=0):\n",
    "        self.nodo = nodo\n",
    "        self.valor = valor\n",
    "        self.nodosHijos = nodosHijos\n",
    "        self.nodoPadre = None\n",
    "        self.nminas = nminas\n",
    "    def __str__(self):\n",
    "        formato = \"{0}\"\n",
    "        return formato.format(self.nodo)\n",
    "    def __eq__(self, obj):\n",
    "        return (self.nodo==obj.nodo)\n",
    "    def __lt__(self, other):\n",
    "        return self.nodo < other.nodo\n",
    "    def tieneMinas(self):\n",
    "        return self.nminas>0"
   ]
  },
  {
   "cell_type": "code",
   "execution_count": 70,
   "metadata": {},
   "outputs": [],
   "source": [
    "import numpy as np\n",
    "class Buscaminas:\n",
    "    def __init__(self,tablero):\n",
    "        self.tablero = tablero        \n",
    "    \n",
    "    @staticmethod\n",
    "    def esCeldaNoRevelada(celda):\n",
    "        if celda.valor == 'V': \n",
    "            return True\n",
    "        \n",
    "    @staticmethod\n",
    "    def esMina(celda):\n",
    "        if celda.valor== 'M': \n",
    "            return True\n",
    "        \n",
    "    @staticmethod\n",
    "    def buscarPosNodo(tablero,nodo):\n",
    "        (fil,cols) = tablero.shape\n",
    "        posFil = 0\n",
    "        posCol = 0\n",
    "        for i in range(fil):\n",
    "            for j in range(cols):\n",
    "                if(tablero[i,j]==nodo):                    \n",
    "                    return (i,j)\n",
    "        raise('error')\n",
    "                    \n",
    "    @staticmethod\n",
    "    def crearNodosHijosAdyacentes(tablero,nodo):\n",
    "        (fil,cols) = tablero.shape\n",
    "        (i,j) = Buscaminas.buscarPosNodo(tablero,nodo)\n",
    "        nodoHijos = []\n",
    "        for m in range(i-1,i+2):            \n",
    "            for n in range(j-1,j+2):\n",
    "                if(m<0 or m>=fil):\n",
    "                    continue\n",
    "                if(n<0 or n>=cols):\n",
    "                    continue\n",
    "                if(i==m and j==n):\n",
    "                    continue\n",
    "                else:\n",
    "                    nodoHijos.append(tablero[m,n])\n",
    "        return nodoHijos\n",
    "    \n",
    "    \n",
    "    def resolver(self,nodoInicial):\n",
    "        nodosAbiertos=[]\n",
    "        nodosVisitados=[]    \n",
    "        nodosAbiertos.append(nodoInicial)  \n",
    "        contador = 0\n",
    "        while nodosAbiertos:           \n",
    "            nodo=nodosAbiertos.pop(0) \n",
    "            if Buscaminas.esMina(nodo):     \n",
    "                nodo.valor='X'\n",
    "                print('MINA')\n",
    "                return nodo,True,nodosVisitados                                   \n",
    "            contador = contador +1    \n",
    "            if not nodo in nodosVisitados:\n",
    "                nodosVisitados.append(nodo)\n",
    "                nodo.nodosHijos = Buscaminas.crearNodosHijosAdyacentes(tablero,nodo)\n",
    "                #Buscaminas.imprimirHijos(nodo.nodosHijos)\n",
    "                for nodohijo in nodo.nodosHijos:  \n",
    "                    nodohijo.nodoPadre = nodo\n",
    "                    if Buscaminas.esMina(nodohijo): \n",
    "                        nodo.nminas+=1  \n",
    "                    else:\n",
    "                        if not nodohijo in nodosVisitados:\n",
    "                            nodosAbiertos.insert(0,nodohijo)                        \n",
    "                if not nodo.tieneMinas():\n",
    "                    nodo.valor='B'\n",
    "                else:\n",
    "                    nodo.valor=str(nodo.nminas)\n",
    "        return None,False,nodosVisitados\n",
    "                \n",
    "    def imprimirTablero(self): \n",
    "        (fil,cols) = self.tablero.shape        \n",
    "        cadena = \"\"\n",
    "        for i in range(fil):\n",
    "            for j in range(cols):\n",
    "                cadena+=tablero[i,j].valor+\" \"\n",
    "            cadena+=\"\\n\"                \n",
    "        print(cadena)\n",
    "        \n",
    "    @staticmethod    \n",
    "    def imprimirHijos(nodosHijos):         \n",
    "        cadena=\"\"\n",
    "        for nodo in nodosHijos:\n",
    "            cadena+=nodo.valor+\"-\"\n",
    "        print(cadena)     "
   ]
  },
  {
   "cell_type": "code",
   "execution_count": 67,
   "metadata": {},
   "outputs": [
    {
     "name": "stdout",
     "output_type": "stream",
     "text": [
      "V V V \n",
      "V V V \n",
      "M V V \n",
      "\n",
      "B B B \n",
      "1 1 B \n",
      "M 1 B \n",
      "\n"
     ]
    }
   ],
   "source": [
    "C1=Nodo('C1','V')\n",
    "C2=Nodo('C2','V')\n",
    "C3=Nodo('C3','V')\n",
    "C4=Nodo('C4','V')\n",
    "C5=Nodo('C5','V')\n",
    "C6=Nodo('C6','V')\n",
    "C7=Nodo('C7','M')\n",
    "C8=Nodo('C8','V')\n",
    "C9=Nodo('C9','V')\n",
    "tablero = np.array([\n",
    "            [C1, C2, C3], \n",
    "            [C4, C5, C6], \n",
    "            [C7, C8, C9] \n",
    "        ])\n",
    "\n",
    "juego = Buscaminas(tablero)\n",
    "juego.imprimirTablero()\n",
    "juego.resolver(C3)\n",
    "juego.imprimirTablero()"
   ]
  },
  {
   "cell_type": "code",
   "execution_count": 68,
   "metadata": {},
   "outputs": [
    {
     "name": "stdout",
     "output_type": "stream",
     "text": [
      "V V V \n",
      "M V V \n",
      "M M V \n",
      "\n",
      "1 1 B \n",
      "M 3 1 \n",
      "M M 1 \n",
      "\n"
     ]
    }
   ],
   "source": [
    "C1=Nodo('C1','V')\n",
    "C2=Nodo('C2','V')\n",
    "C3=Nodo('C3','V')\n",
    "C4=Nodo('C4','M')\n",
    "C5=Nodo('C5','V')\n",
    "C6=Nodo('C6','V')\n",
    "C7=Nodo('C7','M')\n",
    "C8=Nodo('C8','M')\n",
    "C9=Nodo('C9','V')\n",
    "tablero = np.array([\n",
    "            [C1, C2, C3], \n",
    "            [C4, C5, C6], \n",
    "            [C7, C8, C9] \n",
    "        ])\n",
    "\n",
    "juego = Buscaminas(tablero)\n",
    "juego.imprimirTablero()\n",
    "juego.resolver(C3)\n",
    "juego.imprimirTablero()"
   ]
  },
  {
   "cell_type": "code",
   "execution_count": 69,
   "metadata": {},
   "outputs": [
    {
     "name": "stdout",
     "output_type": "stream",
     "text": [
      "V V V \n",
      "V V V \n",
      "V V V \n",
      "\n",
      "B B B \n",
      "B B B \n",
      "B B B \n",
      "\n"
     ]
    }
   ],
   "source": [
    "C1=Nodo('C1','V')\n",
    "C2=Nodo('C2','V')\n",
    "C3=Nodo('C3','V')\n",
    "C4=Nodo('C4','V')\n",
    "C5=Nodo('C5','V')\n",
    "C6=Nodo('C6','V')\n",
    "C7=Nodo('C7','V')\n",
    "C8=Nodo('C8','V')\n",
    "C9=Nodo('C9','V')\n",
    "tablero = np.array([\n",
    "            [C1, C2, C3], \n",
    "            [C4, C5, C6], \n",
    "            [C7, C8, C9] \n",
    "        ])\n",
    "\n",
    "juego = Buscaminas(tablero)\n",
    "juego.imprimirTablero()\n",
    "juego.resolver(C3)\n",
    "juego.imprimirTablero()"
   ]
  },
  {
   "cell_type": "code",
   "execution_count": 71,
   "metadata": {},
   "outputs": [
    {
     "name": "stdout",
     "output_type": "stream",
     "text": [
      "M V V \n",
      "M V V \n",
      "M M V \n",
      "\n",
      "M 2 B \n",
      "M 4 1 \n",
      "M M 1 \n",
      "\n"
     ]
    }
   ],
   "source": [
    "C1=Nodo('C1','M')\n",
    "C2=Nodo('C2','V')\n",
    "C3=Nodo('C3','V')\n",
    "C4=Nodo('C4','M')\n",
    "C5=Nodo('C5','V')\n",
    "C6=Nodo('C6','V')\n",
    "C7=Nodo('C7','M')\n",
    "C8=Nodo('C8','M')\n",
    "C9=Nodo('C9','V')\n",
    "tablero = np.array([\n",
    "            [C1, C2, C3], \n",
    "            [C4, C5, C6], \n",
    "            [C7, C8, C9] \n",
    "        ])\n",
    "\n",
    "juego = Buscaminas(tablero)\n",
    "juego.imprimirTablero()\n",
    "juego.resolver(C3)\n",
    "juego.imprimirTablero()"
   ]
  },
  {
   "cell_type": "code",
   "execution_count": 72,
   "metadata": {},
   "outputs": [
    {
     "name": "stdout",
     "output_type": "stream",
     "text": [
      "M V M \n",
      "M V V \n",
      "M M V \n",
      "\n",
      "MINA\n",
      "M V X \n",
      "M V V \n",
      "M M V \n",
      "\n"
     ]
    }
   ],
   "source": [
    "C1=Nodo('C1','M')\n",
    "C2=Nodo('C2','V')\n",
    "C3=Nodo('C3','M')\n",
    "C4=Nodo('C4','M')\n",
    "C5=Nodo('C5','V')\n",
    "C6=Nodo('C6','V')\n",
    "C7=Nodo('C7','M')\n",
    "C8=Nodo('C8','M')\n",
    "C9=Nodo('C9','V')\n",
    "tablero = np.array([\n",
    "            [C1, C2, C3], \n",
    "            [C4, C5, C6], \n",
    "            [C7, C8, C9] \n",
    "        ])\n",
    "\n",
    "juego = Buscaminas(tablero)\n",
    "juego.imprimirTablero()\n",
    "juego.resolver(C3)\n",
    "juego.imprimirTablero()"
   ]
  },
  {
   "cell_type": "code",
   "execution_count": 73,
   "metadata": {},
   "outputs": [
    {
     "name": "stdout",
     "output_type": "stream",
     "text": [
      "M V V \n",
      "M V M \n",
      "V V M \n",
      "\n",
      "M 3 1 \n",
      "M 4 M \n",
      "1 3 M \n",
      "\n"
     ]
    }
   ],
   "source": [
    "C1=Nodo('C1','M')\n",
    "C2=Nodo('C2','V')\n",
    "C3=Nodo('C3','V')\n",
    "C4=Nodo('C4','M')\n",
    "C5=Nodo('C5','V')\n",
    "C6=Nodo('C6','M')\n",
    "C7=Nodo('C7','V')\n",
    "C8=Nodo('C8','V')\n",
    "C9=Nodo('C9','M')\n",
    "tablero = np.array([\n",
    "            [C1, C2, C3], \n",
    "            [C4, C5, C6], \n",
    "            [C7, C8, C9] \n",
    "        ])\n",
    "\n",
    "juego = Buscaminas(tablero)\n",
    "juego.imprimirTablero()\n",
    "juego.resolver(C2)\n",
    "juego.imprimirTablero()"
   ]
  }
 ],
 "metadata": {
  "kernelspec": {
   "display_name": "Python 3",
   "language": "python",
   "name": "python3"
  },
  "language_info": {
   "codemirror_mode": {
    "name": "ipython",
    "version": 3
   },
   "file_extension": ".py",
   "mimetype": "text/x-python",
   "name": "python",
   "nbconvert_exporter": "python",
   "pygments_lexer": "ipython3",
   "version": "3.7.6"
  }
 },
 "nbformat": 4,
 "nbformat_minor": 4
}
