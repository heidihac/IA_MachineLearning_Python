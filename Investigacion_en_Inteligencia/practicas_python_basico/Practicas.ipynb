{
 "cells": [
  {
   "cell_type": "markdown",
   "metadata": {},
   "source": [
    "### Ingreso valores"
   ]
  },
  {
   "cell_type": "code",
   "execution_count": null,
   "metadata": {},
   "outputs": [],
   "source": [
    "var_ingreso=input()\n",
    "print(var_ingreso)\n",
    "var_numer=input()\n",
    "potencia=pow(int(var_numer),2)\n",
    "print(potencia)\n",
    "var_numer_float=input()\n",
    "potencia=pow(float(var_numer_float),2)\n",
    "print(potencia)"
   ]
  },
  {
   "cell_type": "markdown",
   "metadata": {},
   "source": [
    "# Adivina el número"
   ]
  },
  {
   "cell_type": "code",
   "execution_count": null,
   "metadata": {},
   "outputs": [],
   "source": [
    "import random\n",
    "print('¡Hola! ¿Cómo te llamas?')\n",
    "nombre=input()\n",
    "print(\"Bueno, %s, estoy pensando en un número entre 1 y 20.\\n Intenta adivinar.\"%nombre)\n",
    "numero_advinar = random.randint(1,20)\n",
    "print('Numero:',numero_advinar)\n",
    "intento=1\n",
    "while intento<6:\n",
    "    print('Intenta adivinar.')\n",
    "    numero=int(input())\n",
    "    print('Tu numero es:%d'%numero)\n",
    "    if numero==numero_advinar:\n",
    "        print('¡Buen trabajo, {0}! ¡Has adivinado mi número en {1} intentos!'.format(nombre,intento))\n",
    "        break\n",
    "    elif numero>numero_advinar:\n",
    "        print('Tu estimación es muy alta.')         \n",
    "    else:\n",
    "        print('Tu estimación es muy baja.')\n",
    "    intento = intento + 1\n",
    "if intento>=6:\n",
    "    print('No lo lograste!!')"
   ]
  },
  {
   "cell_type": "code",
   "execution_count": null,
   "metadata": {},
   "outputs": [],
   "source": [
    "numero_int=int(input())\n",
    "print(type(numero_int))\n",
    "numero_float=float(input())\n",
    "print(type(numero_float))\n",
    "numero_boolean=bool(input())\n",
    "print(type(numero_boolean))\n",
    "string_str=str(input())\n",
    "print(type(string_str))"
   ]
  },
  {
   "cell_type": "markdown",
   "metadata": {},
   "source": [
    "# Reino de Dragones"
   ]
  },
  {
   "cell_type": "code",
   "execution_count": null,
   "metadata": {},
   "outputs": [],
   "source": [
    "import enum\n",
    "import random\n",
    "import time\n",
    "\n",
    "class Dragon(enum.Enum):\n",
    "    hambriento=1\n",
    "    generoso=2\n",
    "dragon_acciones = {\n",
    "    Dragon.hambriento: '¡Te engulle de un bocado!',\n",
    "    Dragon.generoso: '¡Te regala su tesoro!'\n",
    "}    \n",
    "class Cueva(enum.Enum):\n",
    "    primera=1\n",
    "    segunda=2\n",
    "class Cueva_Dragon:    \n",
    "    def __init__(self,dragon,cueva):\n",
    "        self.dragon=dragon\n",
    "        self.cueva=cueva\n",
    "    def imprimir(self):\n",
    "        return \"El la cueva {0} habita un dragon {1} \".format(self.cueva.name,self.dragon.name)\n",
    "    \n",
    "def jugar_juego_dragones():\n",
    "    opcion_juego = \"si\"\n",
    "    while \"si\" == opcion_juego:\n",
    "        mostra_introduccion()\n",
    "        time.sleep(2)\n",
    "        opcion_cueva = escojer_cueva()\n",
    "        reino_dragones = crearReinoDragones()\n",
    "        time.sleep(2)\n",
    "        mostrar_mensaje_aproximaxion()\n",
    "        time.sleep(2)\n",
    "        evaluarOpcion(opcion_cueva,reino_dragones)\n",
    "        time.sleep(2)\n",
    "        opcion_juego=escoger_continuar_jugando()\n",
    "    \n",
    "def mostra_introduccion():    \n",
    "    print('Estás en una tierra llena de dragones. Frente a tí \\nhay dos cuevas. En una de ellas, el dragón es generoso y amigable y compartirá su tesoro contigo.'+\n",
    "          '\\nEl otro dragón es codicioso y está hambriento, y te devorará inmediatamente.')\n",
    "    \n",
    "def escojer_cueva():\n",
    "    print('¿A qué cueva quieres entrar? (1 ó 2)')\n",
    "    opcion = int(input())\n",
    "    while opcion!=1 and opcion!=2:\n",
    "        print('¿A qué cueva quieres entrar? (1 ó 2)')\n",
    "        opcion = int(input())\n",
    "    return opcion\n",
    "def evaluarOpcion(opcion,reino_dragones):\n",
    "    for cueva_dragon in reino_dragones:        \n",
    "        print(cueva_dragon.imprimir())\n",
    "        cueva_seleccionada = Cueva(opcion)\n",
    "        print(cueva_seleccionada.name)\n",
    "        if cueva_dragon.cueva == cueva_seleccionada:\n",
    "            dragonSeleccionado=cueva_dragon.dragon\n",
    "            print(dragon_acciones[dragonSeleccionado])      \n",
    "        \n",
    "def crearReinoDragones():\n",
    "    print('Creaendo reino..')\n",
    "    cuevas_dragones=[]    \n",
    "    primerDragon = Dragon(random.randint(1,2))    \n",
    "    segundoDragon = Dragon.hambriento if Dragon.hambriento!=primerDragon else Dragon.generoso    \n",
    "    dragonPrimeraCueva=Cueva_Dragon(primerDragon,Cueva.primera)\n",
    "    dragonSegundaCueva=Cueva_Dragon(segundoDragon,Cueva.segunda)                 \n",
    "    cuevas_dragones.append(dragonPrimeraCueva)\n",
    "    cuevas_dragones.append(dragonSegundaCueva)    \n",
    "    return cuevas_dragones\n",
    "    \n",
    "def mostrar_mensaje_aproximaxion():\n",
    "    print('Te aproximas a la cueva...\\nEs oscura y espeluznante...'+\n",
    "          '\\n¡Un gran dragon aparece súbitamente frente a tí! Abre sus fauces y...')\n",
    "\n",
    "            \n",
    "def escoger_continuar_jugando():          \n",
    "    print('¿Quieres jugar de nuevo? (sí or no)')\n",
    "    opcion=str(input())\n",
    "    while \"si\"!=opcion.lower() and \"no\"!=opcion.lower():\n",
    "        print('¿Quieres jugar de nuevo? (sí or no)')\n",
    "        opcion=str(input())\n",
    "    return opcion\n",
    "\n",
    "jugar_juego_dragones()"
   ]
  },
  {
   "cell_type": "markdown",
   "metadata": {},
   "source": [
    "### Listas"
   ]
  },
  {
   "cell_type": "code",
   "execution_count": null,
   "metadata": {},
   "outputs": [],
   "source": [
    "list=[\"A\",\"B\",\"C\",1,2,3]\n",
    "print(list)\n",
    "print(list[0])\n",
    "print(list[len(list)-1])\n",
    "for i in range(1,len(list)):\n",
    "    print(list[i])\n",
    "list[1]=\"$$\"    \n",
    "for i in range(len(list)):\n",
    "    print(list[i])\n",
    "list_peras=[\"A\",\"B\",\"C\"]    \n",
    "list_manzanas=[1,2,3]    \n",
    "list_peras_manzanas=list_peras+list_manzanas\n",
    "for i in range(len(list_peras_manzanas)):\n",
    "    print(list_peras_manzanas[i])\n",
    "    \n",
    "print(\"A\" in list_peras_manzanas)\n",
    "print(\"X\" in list_peras_manzanas)\n",
    "print(10 in list_peras_manzanas)\n",
    "del list_peras_manzanas[1:3]\n",
    "print(list_peras_manzanas)"
   ]
  },
  {
   "cell_type": "markdown",
   "metadata": {},
   "source": [
    "### Lista de listas"
   ]
  },
  {
   "cell_type": "code",
   "execution_count": null,
   "metadata": {},
   "outputs": [],
   "source": [
    "comestibles = ['huevos', 'leche', 'sopa', 'manzanas', 'pan']\n",
    "tareas = ['limpiar', 'cortar el césped', 'ir al supermercado','lavar auto']\n",
    "pastelesFavoritos = ['manzanas', 'zarzamora']\n",
    "lista_listas = [comestibles,tareas,pastelesFavoritos]\n",
    "print(lista_listas)\n",
    "print(lista_listas[1][1])\n",
    "print('Recorre multiple Lista')\n",
    "for i in range(len(lista_listas)):    \n",
    "    for j in range(len(lista_listas[i])):\n",
    "        print(lista_listas[i][j])\n",
    "print(tareas[1:2])\n",
    "print(tareas[0:2])\n",
    "print(tareas[0:])    \n",
    "print(tareas[4:]) \n",
    "print(tareas[3:]) "
   ]
  },
  {
   "cell_type": "code",
   "execution_count": null,
   "metadata": {},
   "outputs": [],
   "source": [
    "print(tareas)\n",
    "tareas.reverse()\n",
    "print(tareas)\n",
    "tareas.append('limpiar baño')\n",
    "print(tareas)\n"
   ]
  },
  {
   "cell_type": "markdown",
   "metadata": {},
   "source": [
    "### Métodos cadena"
   ]
  },
  {
   "cell_type": "code",
   "execution_count": null,
   "metadata": {},
   "outputs": [],
   "source": [
    "mensaje = '  saludos here ¡Hola mundo!   '\n",
    "print(mensaje.lower())\n",
    "print(mensaje.upper())\n",
    "print(mensaje.split('l'))\n",
    "print(mensaje.capitalize())\n",
    "print(mensaje.startswith('a'))\n",
    "print(mensaje.startswith('s'))\n",
    "print(mensaje.startswith('S'))\n",
    "print(mensaje.endswith('x'))\n",
    "print(mensaje.endswith('!'))\n",
    "print(mensaje.swapcase())\n",
    "print(mensaje.title())\n",
    "print(mensaje.find('r'))\n",
    "print(mensaje.find('a'))\n",
    "print(mensaje.index('a'))\n",
    "print(mensaje.strip())"
   ]
  },
  {
   "cell_type": "markdown",
   "metadata": {},
   "source": [
    "### Find text"
   ]
  },
  {
   "cell_type": "code",
   "execution_count": null,
   "metadata": {},
   "outputs": [],
   "source": [
    "import re\n",
    "texto = 'Saludos here ¡Hola mundo!'\n",
    "for index in re.finditer('a',texto):\n",
    "    print(\"Letra pos {0}-{1}\".format(index.start(),index.end()))\n",
    "index = 0\n",
    "for letra in texto:\n",
    "    if letra == 'a':\n",
    "        print(index)\n",
    "    index+=1"
   ]
  },
  {
   "cell_type": "markdown",
   "metadata": {},
   "source": [
    "# El Ahorcado"
   ]
  },
  {
   "cell_type": "code",
   "execution_count": 3,
   "metadata": {},
   "outputs": [],
   "source": [
    "import time\n",
    "import random\n",
    "class Ahorcado:\n",
    "    \n",
    "    ahorcado=\"AHORCADO\"    \n",
    "    \n",
    "    def __init__(self,palabra_secreta):\n",
    "        self.contador=0   \n",
    "        self.palabra_secreta=palabra_secreta\n",
    "        self.indices=[]        \n",
    "        self.lista_letras_detectadas = []\n",
    "    \n",
    "    def inicializar_formato(self,texto):\n",
    "        cadena=\"\"\n",
    "        for i in range(len(texto)):\n",
    "            cadena+=\"_\"\n",
    "        return cadena    \n",
    "    \n",
    "    def validar_letra_registrada(self,letra):\n",
    "        return letra in self.lista_letras_detectadas\n",
    "            \n",
    "    def buscar_indices_letra(self,letra):\n",
    "        encontro_indice = False\n",
    "        for index in range(len(self.palabra_secreta)):\n",
    "            if letra == self.palabra_secreta[index]:\n",
    "                self.indices.append(index)\n",
    "                encontro_indice = True\n",
    "        return encontro_indice\n",
    "                \n",
    "    def tiene_intentos(self):\n",
    "        return self.contador<len(self.ahorcado)\n",
    "    \n",
    "    def agregar_letra_detectada(self,letra):\n",
    "        self.lista_letras_detectadas.append(letra)\n",
    "        \n",
    "    def generar_palabra_secreta(self):\n",
    "        cadena = \"\"\n",
    "        for index in range(len(self.palabra_secreta)):\n",
    "            token=\"_\"\n",
    "            for indice in self.indices:\n",
    "                if indice == index:\n",
    "                    token=self.palabra_secreta[index]\n",
    "                    break                            \n",
    "            cadena+=token\n",
    "        return cadena\n",
    "    \n",
    "    def es_palabra_advinada(self):\n",
    "        return len(self.indices)==len(self.palabra_secreta)\n",
    "    \n",
    "    def generar_palabra_ahorcado(self):        \n",
    "        texto_ahorcado = self.ahorcado[0:self.contador] \n",
    "        for index in range(self.contador,len(self.ahorcado)):\n",
    "            texto_ahorcado+=\"_\"\n",
    "        return texto_ahorcado\n",
    "    \n",
    "    def incrimentar_contador(self):\n",
    "        self.contador=self.contador+1\n",
    "        \n",
    "    def validarMaximoIntentos(self):\n",
    "        if self.texto_ahorcado>=len(self.texto_ahorcado):\n",
    "            raise Exception('Estas Ahorcado', 'jejeje')\n",
    "            \n",
    "    def validar_letra(self,letra):        \n",
    "        mensaje = \"\"  \n",
    "        existeLetra = False\n",
    "        if self.validar_letra_registrada(letra):\n",
    "            mensaje = \"Ya has probado esa letra. Elige otra.\" \n",
    "            return mensaje,existeLetra\n",
    "        else:\n",
    "            tiene_nuevos_indices = self.buscar_indices_letra(letra)\n",
    "            if not tiene_nuevos_indices:\n",
    "                mensaje = \"Intentalo otra vez\"\n",
    "                self.incrimentar_contador()               \n",
    "            else:\n",
    "                existeLetra=True\n",
    "                mensaje = \"Exito!!\"       \n",
    "        self.agregar_letra_detectada(letra) \n",
    "        return mensaje,existeLetra\n"
   ]
  },
  {
   "cell_type": "code",
   "execution_count": null,
   "metadata": {},
   "outputs": [],
   "source": [
    "conjunto_palabras='hormiga babuino tejon murcielago oso castor camello gato almeja cobra pantera coyote cuervo ciervo perro burro pato aguila huron zorro rana cabra ganso halcon leon lagarto llama topo mono alce raton mula salamandra nutria buho panda loro paloma piton conejo carnero rata cuervo rinoceronte salmon foca tiburon oveja mofeta perezoso serpiente araña cigüeña cisne tigre sapo trucha pavo tortuga comadreja ballena lobo wombat cebra'\n",
    "def seleccionar_palabra(conjunto_palabras):\n",
    "    palabras=conjunto_palabras.split()\n",
    "    index = random.randint(0,len(palabras))\n",
    "    return palabras[index]\n",
    "def jugar_ahorcado():\n",
    "    opcion = \"si\"\n",
    "    while opcion==\"si\":\n",
    "        palabra = seleccionar_palabra(conjunto_palabras)\n",
    "        print('Tu palabre tiene {} letras'.format(len(palabra)))\n",
    "        ahorcado= Ahorcado(palabra)\n",
    "        while ahorcado.tiene_intentos():\n",
    "            if(ahorcado.es_palabra_advinada()):\n",
    "                time.sleep(2)\n",
    "                print('En hora buena, lo lograste')\n",
    "                break\n",
    "            print('Adivina una letra.')\n",
    "            letra=input()            \n",
    "            mensaje,existeLetra = ahorcado.validar_letra(letra)\n",
    "            time.sleep(2)\n",
    "            print(mensaje)\n",
    "            print('Contador:',ahorcado.contador)            \n",
    "            print('Letras:',ahorcado.lista_letras_detectadas)            \n",
    "            print('Palabra:',ahorcado.generar_palabra_secreta())            \n",
    "            print('Estatus:',ahorcado.generar_palabra_ahorcado())\n",
    "        print('¿Quieres jugar de nuevo? (sí o no)') \n",
    "        print('Palabra :',ahorcado.palabra_secreta)\n",
    "        opcion=input()\n",
    "        \n",
    "jugar_ahorcado()"
   ]
  },
  {
   "cell_type": "code",
   "execution_count": 5,
   "metadata": {},
   "outputs": [
    {
     "name": "stderr",
     "output_type": "stream",
     "text": [
      "test_inicializar_formato (__main__.TestNotebook) ... ok\n",
      "\n",
      "----------------------------------------------------------------------\n",
      "Ran 1 test in 0.001s\n",
      "\n",
      "OK\n"
     ]
    },
    {
     "data": {
      "text/plain": [
       "<unittest.main.TestProgram at 0x1d88c106b88>"
      ]
     },
     "execution_count": 5,
     "metadata": {},
     "output_type": "execute_result"
    }
   ],
   "source": [
    "import unittest\n",
    "class TestNotebook(unittest.TestCase):\n",
    "    def test_inicializar_formato(self):\n",
    "        ahorcado = Ahorcado(\"hola como estas\")\n",
    "        ahorcado.incrimentar_contador()\n",
    "        ahorcado.incrimentar_contador()\n",
    "        ahorcado.incrimentar_contador()\n",
    "        self.assertEqual(ahorcado.contador, 3) \n",
    "        text_formato=ahorcado.inicializar_formato(\"saludo\")\n",
    "        self.assertEqual(text_formato, \"______\")\n",
    "        ahorcado.agregar_letra_detectada('a')\n",
    "        self.assertTrue('a' in ahorcado.lista_letras_detectadas)\n",
    "        ahorcado.agregar_letra_detectada('o')\n",
    "        self.assertTrue('o' in ahorcado.lista_letras_detectadas)\n",
    "        self.assertFalse('c' in ahorcado.lista_letras_detectadas)\n",
    "        ahorcado.buscar_indices_letra('o')\n",
    "        self.assertListEqual(ahorcado.indices,[1,6,8])\n",
    "        palabra_esperada=ahorcado.generar_palabra_secreta()\n",
    "        self.assertEqual(palabra_esperada,\"_o____o_o______\")\n",
    "        palabra_esperada_ahorcado=ahorcado.generar_palabra_ahorcado()\n",
    "        self.assertEqual(palabra_esperada_ahorcado,\"AHO_____\")\n",
    "        self.assertTrue(ahorcado.validar_letra_registrada('o'))\n",
    "        mensaje,existeLetra = ahorcado.validar_letra('h')\n",
    "        self.assertTrue(existeLetra)\n",
    "        mensaje,existeLetra = ahorcado.validar_letra('o')\n",
    "        self.assertFalse(existeLetra)\n",
    "        self.assertTrue(ahorcado.tiene_intentos())        \n",
    "unittest.main(argv=[''], verbosity=4, exit=False)"
   ]
  },
  {
   "cell_type": "code",
   "execution_count": null,
   "metadata": {},
   "outputs": [],
   "source": [
    "texto=\"cadena\"\n",
    "print(texto[0:1])\n",
    "print(texto[0:2])\n",
    "print(texto[0:3])\n",
    "for index in range(3,6):\n",
    "    print(texto[index])"
   ]
  },
  {
   "cell_type": "code",
   "execution_count": null,
   "metadata": {},
   "outputs": [],
   "source": []
  },
  {
   "cell_type": "code",
   "execution_count": null,
   "metadata": {},
   "outputs": [],
   "source": []
  }
 ],
 "metadata": {
  "kernelspec": {
   "display_name": "Python 3",
   "language": "python",
   "name": "python3"
  }
 },
 "nbformat": 4,
 "nbformat_minor": 4
}
