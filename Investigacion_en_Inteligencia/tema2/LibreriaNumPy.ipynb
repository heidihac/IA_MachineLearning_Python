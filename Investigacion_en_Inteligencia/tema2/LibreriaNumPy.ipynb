{
 "cells": [
  {
   "cell_type": "markdown",
   "metadata": {},
   "source": [
    "# Numpy"
   ]
  },
  {
   "cell_type": "code",
   "execution_count": 1,
   "metadata": {},
   "outputs": [],
   "source": [
    "\n",
    "import numpy as np\n"
   ]
  },
  {
   "cell_type": "code",
   "execution_count": 3,
   "metadata": {},
   "outputs": [
    {
     "name": "stdout",
     "output_type": "stream",
     "text": [
      "ndim 1\n",
      "dtype float64\n"
     ]
    }
   ],
   "source": [
    "x=np.random.rand(10)\n",
    "print('ndim',x.ndim)\n",
    "print('dtype',x.dtype)"
   ]
  },
  {
   "cell_type": "code",
   "execution_count": 4,
   "metadata": {},
   "outputs": [
    {
     "name": "stdout",
     "output_type": "stream",
     "text": [
      "n items 4\n"
     ]
    }
   ],
   "source": [
    "a=np.array([[0,1,2,3],[4,5,6,7],[8,9,10,11]])\n",
    "rows,cols=np.shape(a)\n",
    "print('n items', a.itemsize)"
   ]
  },
  {
   "cell_type": "markdown",
   "metadata": {},
   "source": [
    "# Numero Complejos"
   ]
  },
  {
   "cell_type": "code",
   "execution_count": 11,
   "metadata": {},
   "outputs": [
    {
     "name": "stdout",
     "output_type": "stream",
     "text": [
      "<class 'numpy.ndarray'>\n",
      "complex64\n"
     ]
    }
   ],
   "source": [
    "b=np.array([[2,3],[6,7]],dtype=np.complex64)\n",
    "print(type(b))\n",
    "print(b.dtype)\n"
   ]
  },
  {
   "cell_type": "code",
   "execution_count": 12,
   "metadata": {},
   "outputs": [
    {
     "name": "stdout",
     "output_type": "stream",
     "text": [
      "[[0. 0. 0. 0. 0.]\n",
      " [0. 0. 0. 0. 0.]\n",
      " [0. 0. 0. 0. 0.]\n",
      " [0. 0. 0. 0. 0.]]\n"
     ]
    }
   ],
   "source": [
    "v=np.zeros((4,5))\n",
    "print(v)"
   ]
  },
  {
   "cell_type": "code",
   "execution_count": 13,
   "metadata": {},
   "outputs": [
    {
     "name": "stdout",
     "output_type": "stream",
     "text": [
      "[[1. 0. 0. 0. 0.]\n",
      " [0. 1. 0. 0. 0.]\n",
      " [0. 0. 1. 0. 0.]\n",
      " [0. 0. 0. 1. 0.]\n",
      " [0. 0. 0. 0. 1.]]\n"
     ]
    }
   ],
   "source": [
    "e=np.eye(5)\n",
    "print(e)"
   ]
  },
  {
   "cell_type": "code",
   "execution_count": 15,
   "metadata": {},
   "outputs": [
    {
     "name": "stdout",
     "output_type": "stream",
     "text": [
      "[[0.+0.j 0.+0.j]\n",
      " [0.+0.j 0.+0.j]]\n"
     ]
    }
   ],
   "source": [
    "ze=np.zeros_like(b)\n",
    "print(ze)"
   ]
  },
  {
   "cell_type": "code",
   "execution_count": 18,
   "metadata": {},
   "outputs": [
    {
     "name": "stdout",
     "output_type": "stream",
     "text": [
      "[2 3 4 5 6]\n",
      "[[2 0 0 0 0]\n",
      " [0 3 0 0 0]\n",
      " [0 0 4 0 0]\n",
      " [0 0 0 5 0]\n",
      " [0 0 0 0 6]]\n"
     ]
    }
   ],
   "source": [
    "a=np.arange(2,7)\n",
    "print(a)\n",
    "di=np.diag(a)\n",
    "print(di)"
   ]
  },
  {
   "cell_type": "code",
   "execution_count": 20,
   "metadata": {},
   "outputs": [
    {
     "name": "stdout",
     "output_type": "stream",
     "text": [
      "[[0 1 2 3 4]\n",
      " [5 6 7 8 9]]\n"
     ]
    }
   ],
   "source": [
    "r=np.arange(10)\n",
    "x=r.reshape(2,5)\n",
    "print(x)"
   ]
  },
  {
   "cell_type": "markdown",
   "metadata": {},
   "source": [
    "$ Podemos generar matrices mas complejas $"
   ]
  },
  {
   "cell_type": "code",
   "execution_count": 24,
   "metadata": {},
   "outputs": [
    {
     "name": "stdout",
     "output_type": "stream",
     "text": [
      "[ 0.  3.  6.  9. 12.]\n",
      "[[ 0.  3.  6.  9. 12.]]\n",
      "[[ 0.]\n",
      " [ 3.]\n",
      " [ 6.]\n",
      " [ 9.]\n",
      " [12.]]\n"
     ]
    }
   ],
   "source": [
    "d=np.linspace(0,12,5)\n",
    "print(d)\n",
    "dP=d[np.newaxis,:]\n",
    "print(dP)\n",
    "dH=d[:,np.newaxis]\n",
    "print(dH)"
   ]
  },
  {
   "cell_type": "markdown",
   "metadata": {},
   "source": [
    "## Scipy"
   ]
  },
  {
   "cell_type": "code",
   "execution_count": 33,
   "metadata": {},
   "outputs": [
    {
     "name": "stdout",
     "output_type": "stream",
     "text": [
      "[[0.87810313 0.63952891 0.94869898 0.86375625 0.71431857 0.87972588]\n",
      " [0.06992623 0.73122342 0.34420929 0.11486153 0.37101332 0.43695783]\n",
      " [0.87518962 0.56784178 0.74150199 0.28460741 0.49112503 0.56537565]\n",
      " [0.18640111 0.16234648 0.8438549  0.94373175 0.38062898 0.12949634]\n",
      " [0.09634825 0.28734383 0.15591857 0.39412881 0.04643899 0.18891614]]\n",
      "[[0.87810313 0.         0.94869898 0.86375625 0.         0.87972588]\n",
      " [0.         0.         0.         0.         0.         0.        ]\n",
      " [0.87518962 0.         0.         0.         0.         0.        ]\n",
      " [0.         0.         0.         0.94373175 0.         0.        ]\n",
      " [0.         0.         0.         0.         0.         0.        ]]\n",
      "  (0, 0)\t0.8781031279831452\n",
      "  (0, 2)\t0.9486989838686678\n",
      "  (0, 3)\t0.8637562503473998\n",
      "  (0, 5)\t0.879725884088441\n",
      "  (2, 0)\t0.8751896174550308\n",
      "  (3, 3)\t0.9437317483441306\n"
     ]
    }
   ],
   "source": [
    "from scipy import sparse\n",
    "X=np.random.random((5,6))\n",
    "print(X)\n",
    "X[X<0.85]=0\n",
    "print(X)\n",
    "x_csr=sparse.csr_matrix(X)\n",
    "print(x_csr)"
   ]
  },
  {
   "cell_type": "code",
   "execution_count": 34,
   "metadata": {},
   "outputs": [
    {
     "name": "stdout",
     "output_type": "stream",
     "text": [
      "-2.0\n"
     ]
    }
   ],
   "source": [
    "from scipy import linalg\n",
    "arr = np.array([[1,2],[3,4]])\n",
    "print(linalg.det(arr))"
   ]
  },
  {
   "cell_type": "code",
   "execution_count": 40,
   "metadata": {},
   "outputs": [
    {
     "name": "stdout",
     "output_type": "stream",
     "text": [
      "[0.92961609 0.31637555 0.18391881 0.20456028]\n"
     ]
    }
   ],
   "source": [
    "np.random.seed(12345)\n",
    "rn=np.random.rand(4)\n",
    "print(rn)\n"
   ]
  },
  {
   "cell_type": "code",
   "execution_count": null,
   "metadata": {},
   "outputs": [],
   "source": []
  }
 ],
 "metadata": {
  "kernelspec": {
   "display_name": "Python 3",
   "language": "python",
   "name": "python3"
  },
  "language_info": {
   "codemirror_mode": {
    "name": "ipython",
    "version": 3
   },
   "file_extension": ".py",
   "mimetype": "text/x-python",
   "name": "python",
   "nbconvert_exporter": "python",
   "pygments_lexer": "ipython3",
   "version": "3.7.6"
  }
 },
 "nbformat": 4,
 "nbformat_minor": 4
}
