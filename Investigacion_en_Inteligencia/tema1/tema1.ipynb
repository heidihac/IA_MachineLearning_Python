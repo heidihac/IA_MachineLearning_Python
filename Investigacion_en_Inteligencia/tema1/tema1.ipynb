{
 "cells": [
  {
   "cell_type": "code",
   "execution_count": 9,
   "metadata": {},
   "outputs": [
    {
     "name": "stdout",
     "output_type": "stream",
     "text": [
      "Esto es una constante numerica 12345\n",
      "Esto es una cadena de texto\n",
      "Es una var num 3\n",
      "Es una var string Cadena\n",
      "Va 5\n",
      "Va 2\n",
      "CONS 5\n",
      "<class 'int'>\n",
      "<class 'str'>\n",
      "3.45\n",
      "<class 'float'>\n",
      "<class 'str'>\n",
      "3\n",
      "3.45\n",
      "5\n",
      "e\n",
      "es u\n"
     ]
    }
   ],
   "source": [
    "#Comentario una linea\n",
    "\"\"\"\n",
    "Varias lineas de comentarios\n",
    "\"\"\"\n",
    "#Phyton reconoce asddqArithmeticError\n",
    "print(\"Esto es una constante numerica\", str(12345))\n",
    "print(\"Esto es una cadena\"+\" de texto\")\n",
    "variable_numerica=3\n",
    "variable_string='Cadena'\n",
    "print(\"Es una var num\",variable_numerica)\n",
    "print(\"Es una var string\",variable_string)\n",
    "Variable=5\n",
    "variable=2\n",
    "print(\"Va\",Variable)\n",
    "print(\"Va\",variable)\n",
    "CONSTANTE=5\n",
    "print(\"CONS\",CONSTANTE)\n",
    "print(type(variable_numerica))\n",
    "print(type(variable_string))\n",
    "numero_real=3.45\n",
    "print(str(numero_real))\n",
    "print(type(numero_real))\n",
    "print(type(str(numero_real)))\n",
    "print(int(numero_real))\n",
    "print(float(numero_real))\n",
    "print(int(\"5\"))\n",
    "\n"
   ]
  },
  {
   "cell_type": "code",
   "execution_count": 12,
   "metadata": {},
   "outputs": [
    {
     "name": "stdout",
     "output_type": "stream",
     "text": [
      "e\n",
      "es u\n",
      "es una cadena\n",
      "Esto \n",
      "18\n"
     ]
    }
   ],
   "source": [
    "cadena='Esto es una cadena'\n",
    "print(cadena[5])\n",
    "print(cadena[5:9])\n",
    "print(cadena[5:])\n",
    "print(cadena[:5])\n",
    "print(len(cadena))"
   ]
  },
  {
   "cell_type": "code",
   "execution_count": 23,
   "metadata": {},
   "outputs": [
    {
     "name": "stdout",
     "output_type": "stream",
     "text": [
      "{'a', 'c', 'd', 'b'}\n",
      "<class 'set'>\n",
      "a\n",
      "a\n",
      "a\n",
      "{'c', 'd', 'b'}\n",
      "{'f', 'c', 'd', 'b'}\n",
      "{'d', 'a', 'b', 'f', 'c'}\n"
     ]
    }
   ],
   "source": [
    "gastro={\"a\",\"b\",\"c\",\"d\",\"a\"}\n",
    "print(gastro)\n",
    "print(type(gastro))\n",
    "print(next(iter(gastro)))\n",
    "c=next(iter(gastro))\n",
    "print(next(iter(c)))\n",
    "print(gastro.pop())\n",
    "print(gastro)\n",
    "gastro.add(\"f\")\n",
    "print(gastro)\n",
    "gastro.add(\"a\")\n",
    "print(gastro)"
   ]
  },
  {
   "cell_type": "code",
   "execution_count": 36,
   "metadata": {},
   "outputs": [
    {
     "name": "stdout",
     "output_type": "stream",
     "text": [
      "['a', 'b', 'c', 'd', 'e']\n",
      "<class 'list'>\n",
      "a\n",
      "e\n",
      "['a', 'b', 'c', 'd']\n",
      "['a', 'b', 'c', 'a', 'd']\n",
      "['a', 'b', 'c', 'a', 'd', 'a']\n",
      "0\n"
     ]
    }
   ],
   "source": [
    "gastro=[\"a\",\"b\",\"c\",\"d\",\"e\"]\n",
    "print(gastro)\n",
    "print(type(gastro))\n",
    "print(gastro[0])\n",
    "print(gastro.pop())\n",
    "print(gastro)\n",
    "gastro.insert(3,\"a\")\n",
    "print(gastro)\n",
    "gastro.insert(len(gastro),\"a\")\n",
    "print(gastro)\n",
    "print(gastro.index(\"a\"))\n"
   ]
  },
  {
   "cell_type": "code",
   "execution_count": 38,
   "metadata": {},
   "outputs": [
    {
     "ename": "TypeError",
     "evalue": "'set' object does not support item assignment",
     "output_type": "error",
     "traceback": [
      "\u001b[1;31m---------------------------------------------------------------------------\u001b[0m",
      "\u001b[1;31mTypeError\u001b[0m                                 Traceback (most recent call last)",
      "\u001b[1;32m<ipython-input-38-bbb00069dd9b>\u001b[0m in \u001b[0;36m<module>\u001b[1;34m\u001b[0m\n\u001b[0;32m      1\u001b[0m \u001b[0mtupla\u001b[0m\u001b[1;33m=\u001b[0m\u001b[1;33m{\u001b[0m\u001b[1;36m1\u001b[0m\u001b[1;33m,\u001b[0m\u001b[1;36m2\u001b[0m\u001b[1;33m,\u001b[0m\u001b[1;36m3\u001b[0m\u001b[1;33m}\u001b[0m\u001b[1;33m\u001b[0m\u001b[1;33m\u001b[0m\u001b[0m\n\u001b[1;32m----> 2\u001b[1;33m \u001b[0mtupla\u001b[0m\u001b[1;33m[\u001b[0m\u001b[1;36m0\u001b[0m\u001b[1;33m]\u001b[0m\u001b[1;33m=\u001b[0m\u001b[1;36m44\u001b[0m\u001b[1;33m\u001b[0m\u001b[1;33m\u001b[0m\u001b[0m\n\u001b[0m\u001b[0;32m      3\u001b[0m \u001b[0mno_tupla\u001b[0m\u001b[1;33m=\u001b[0m\u001b[1;33m[\u001b[0m\u001b[1;36m4\u001b[0m\u001b[1;33m,\u001b[0m\u001b[1;36m5\u001b[0m\u001b[1;33m,\u001b[0m\u001b[1;36m7\u001b[0m\u001b[1;33m,\u001b[0m\u001b[1;36m8\u001b[0m\u001b[1;33m]\u001b[0m\u001b[1;33m\u001b[0m\u001b[1;33m\u001b[0m\u001b[0m\n\u001b[0;32m      4\u001b[0m \u001b[0mtupla\u001b[0m\u001b[1;33m[\u001b[0m\u001b[1;36m0\u001b[0m\u001b[1;33m]\u001b[0m\u001b[1;33m=\u001b[0m\u001b[1;36m100\u001b[0m\u001b[1;33m\u001b[0m\u001b[1;33m\u001b[0m\u001b[0m\n",
      "\u001b[1;31mTypeError\u001b[0m: 'set' object does not support item assignment"
     ]
    }
   ],
   "source": [
    "tupla={1,2,3}\n",
    "tupla[0]=44\n",
    "no_tupla=[4,5,7,8]\n",
    "tupla[0]=100"
   ]
  },
  {
   "cell_type": "code",
   "execution_count": 57,
   "metadata": {},
   "outputs": [
    {
     "name": "stdout",
     "output_type": "stream",
     "text": [
      "{'nombre': 'Miguel', 'edad': '35', 'cursos': ['Py', 'Java', 'Scala', 'PHP'], 'Idiomas': {'Ingles', 'Espanol', 'Portuguese'}}\n",
      "Miguel\n",
      "35\n",
      "['Py', 'Java', 'Scala', 'PHP']\n",
      "Scala\n",
      "PHP\n",
      "{'Ingles', 'Espanol', 'Portuguese'}\n",
      "Ingles\n",
      "nombre-- Miguel\n",
      "edad-- 35\n",
      "cursos-- ['Py', 'Java', 'Scala', 'PHP']\n",
      "**Py\n",
      "**Java\n",
      "**Scala\n",
      "**PHP\n",
      "Idiomas-- {'Espanol', 'Portuguese'}\n",
      "--Espanol\n",
      "--Portuguese\n"
     ]
    }
   ],
   "source": [
    "diccionario={\"nombre\":\"Miguel\",\"edad\":\"35\",\"cursos\":[\"Py\",\"Java\",\"Scala\",\"PHP\"],\"Idiomas\":{\"Ingles\",\"Espanol\",\"Portuguese\"}}\n",
    "print(diccionario)\n",
    "print(diccionario[\"nombre\"])\n",
    "print(diccionario[\"edad\"])\n",
    "print(diccionario[\"cursos\"])\n",
    "print(diccionario[\"cursos\"][2])\n",
    "print(diccionario[\"cursos\"][3])\n",
    "print(diccionario[\"Idiomas\"])\n",
    "print(diccionario[\"Idiomas\"].pop())\n",
    "for key in diccionario:\n",
    "    print(key+\"--\",diccionario[key])\n",
    "    if(isinstance(diccionario[key],list)):\n",
    "        for val in diccionario[key]:\n",
    "            print(\"**\"+val)\n",
    "    if(isinstance(diccionario[key],set)):\n",
    "        for val in diccionario[key]:\n",
    "            print(\"--\"+val)"
   ]
  },
  {
   "cell_type": "code",
   "execution_count": 61,
   "metadata": {},
   "outputs": [
    {
     "name": "stdout",
     "output_type": "stream",
     "text": [
      "Es par 12\n",
      "Es par\n",
      "val 3\n"
     ]
    }
   ],
   "source": [
    "numero=12\n",
    "if numero%2==0:\n",
    "    print(\"Es par\",numero)\n",
    "else:\n",
    "    print(\"Es impar\",numero)\n",
    "print(\"Es par\") if numero%2==0 else print(\"Es impar\")\n",
    "\n",
    "val= numero+10 if numero%2==0 else numero-10\n",
    "print(\"val\",val)"
   ]
  },
  {
   "cell_type": "code",
   "execution_count": 62,
   "metadata": {},
   "outputs": [
    {
     "name": "stdout",
     "output_type": "stream",
     "text": [
      "valor 0\n",
      "valor 1\n",
      "valor 2\n",
      "valor 3\n",
      "valor 4\n"
     ]
    }
   ],
   "source": [
    "for valor in range(5):\n",
    "    print(\"valor\",valor)"
   ]
  },
  {
   "cell_type": "code",
   "execution_count": 64,
   "metadata": {},
   "outputs": [
    {
     "name": "stdout",
     "output_type": "stream",
     "text": [
      "valor 0\n",
      "valor 1\n",
      "valor 2\n",
      "valor 3\n",
      "valor 4\n"
     ]
    }
   ],
   "source": [
    "valor =0\n",
    "while valor <5:\n",
    "    print(\"valor\",valor)\n",
    "    valor=valor+1\n",
    "    "
   ]
  },
  {
   "cell_type": "code",
   "execution_count": 65,
   "metadata": {},
   "outputs": [
    {
     "name": "stdout",
     "output_type": "stream",
     "text": [
      "par\n",
      "impar\n"
     ]
    }
   ],
   "source": [
    "def espar(numero):\n",
    "    if numero%2==0:\n",
    "        print(\"par\")\n",
    "    else:\n",
    "        print(\"impar\")\n",
    "espar(12)\n",
    "espar(13)"
   ]
  },
  {
   "cell_type": "code",
   "execution_count": 74,
   "metadata": {},
   "outputs": [
    {
     "name": "stdout",
     "output_type": "stream",
     "text": [
      "(6, -2)\n",
      "6:-2\n",
      "18\n",
      "0.5\n"
     ]
    }
   ],
   "source": [
    "def sumaResta(a,b):\n",
    "    if a%2==0:\n",
    "        return (a+b,a-b)\n",
    "    else:\n",
    "        return (a*b,a/b)\n",
    "var = sumaResta(2,4)\n",
    "mul,div = sumaResta(3,6)\n",
    "print(var)\n",
    "print(str(var[0])+\":\"+str(var[1]))\n",
    "print(mul)\n",
    "\n",
    "print(div)"
   ]
  },
  {
   "cell_type": "code",
   "execution_count": 106,
   "metadata": {},
   "outputs": [
    {
     "name": "stdout",
     "output_type": "stream",
     "text": [
      "REC 10 20 rectangulo def\n",
      "REC 100 20 rectangulo def\n",
      "REC 500 500 Cuadrado Jose\n"
     ]
    }
   ],
   "source": [
    "class Rectangulo:\n",
    "    def __init__(self, x, y):\n",
    "        self.x = x\n",
    "        self.y = y    \n",
    "    descripcion = \"rectangulo\"\n",
    "    autor=\"def\"\n",
    "    def area(self):\n",
    "        return self.x*self.y\n",
    "    def perimetro(self):\n",
    "        return 2*self.x+2*self.y\n",
    "    def setDescripcion(self, des):\n",
    "        self.descripcion = des\n",
    "    def setAutor(self, aut):\n",
    "        self.autor=aut\n",
    "    def cambiarEscala(self, escala):\n",
    "        self.x=self.x*escala\n",
    "        self.y=self.y*escala\n",
    "    def toString(self):\n",
    "        print(\"REC\",self.x,self.y,self.descripcion,self.autor)\n",
    "\n",
    "recA = Rectangulo(10,20)\n",
    "recA.toString()\n",
    "recA.x=100\n",
    "recA.toString()\n",
    "cudA = Rectangulo(50,50)\n",
    "cudA.setAutor(\"Jose\")\n",
    "cudA.setDescripcion(\"Cuadrado\")\n",
    "cudA.cambiarEscala(10)\n",
    "cudA.toString()\n",
    "    "
   ]
  },
  {
   "cell_type": "code",
   "execution_count": 97,
   "metadata": {},
   "outputs": [
    {
     "name": "stdout",
     "output_type": "stream",
     "text": [
      "John\n",
      "36\n"
     ]
    }
   ],
   "source": [
    "class Person:\n",
    "  def __init__(self, name, age):\n",
    "    self.name = name\n",
    "    self.age = age\n",
    "p1 = Person(\"John\", 36)\n",
    "\n",
    "print(p1.name)\n",
    "print(p1.age) "
   ]
  },
  {
   "cell_type": "code",
   "execution_count": 108,
   "metadata": {},
   "outputs": [
    {
     "data": {
      "image/png": "[encoded data removed]",
      "text/plain": [
       "<Figure size 432x288 with 1 Axes>"
      ]
     },
     "metadata": {
      "needs_background": "light"
     },
     "output_type": "display_data"
    }
   ],
   "source": [
    "import numpy as np\n",
    "import matplotlib.pyplot as plt\n",
    "N_POINTS=100\n",
    "x=np.random.rand(N_POINTS);\n",
    "y=0.4*x\n",
    "plt.plot(x,y)\n",
    "plt.grid()"
   ]
  },
  {
   "cell_type": "code",
   "execution_count": null,
   "metadata": {},
   "outputs": [],
   "source": []
  }
 ],
 "metadata": {
  "kernelspec": {
   "display_name": "Python 3",
   "language": "python",
   "name": "python3"
  },
  "language_info": {
   "codemirror_mode": {
    "name": "ipython",
    "version": 3
   },
   "file_extension": ".py",
   "mimetype": "text/x-python",
   "name": "python",
   "nbconvert_exporter": "python",
   "pygments_lexer": "ipython3",
   "version": "3.7.6"
  }
 },
 "nbformat": 4,
 "nbformat_minor": 4
}
