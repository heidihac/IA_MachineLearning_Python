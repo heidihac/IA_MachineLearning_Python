{
 "cells": [
  {
   "cell_type": "markdown",
   "metadata": {},
   "source": [
    "# Tema2\n",
    "### imports"
   ]
  },
  {
   "cell_type": "code",
   "execution_count": null,
   "metadata": {},
   "outputs": [],
   "source": [
    "import numpy as np\n",
    "print(\"ver\",np.__version__)"
   ]
  },
  {
   "cell_type": "markdown",
   "metadata": {},
   "source": [
    "**Se crear arreglos** _Nuevo_\n",
    "    "
   ]
  },
  {
   "cell_type": "code",
   "execution_count": 16,
   "metadata": {},
   "outputs": [
    {
     "name": "stdout",
     "output_type": "stream",
     "text": [
      "[[1 2 3]\n",
      " [4 5 6]\n",
      " [7 8 9]]\n",
      "ndim 2\n",
      "dimen (3, 3)\n",
      "size 9\n",
      "dtype int32\n",
      "itemsize 4\n"
     ]
    }
   ],
   "source": [
    "a=np.array([[1,2,3],[4,5,6],[7,8,9]])\n",
    "print(a)\n",
    "print(\"ndim\",a.ndim)\n",
    "print(\"dimen\",a.shape)\n",
    "print(\"size\",a.size)\n",
    "print(\"dtype\",a.dtype)\n",
    "print(\"itemsize\",a.itemsize)"
   ]
  },
  {
   "cell_type": "code",
   "execution_count": 12,
   "metadata": {},
   "outputs": [
    {
     "name": "stdout",
     "output_type": "stream",
     "text": [
      "[[[0. 0. 0. 0.]\n",
      "  [0. 0. 0. 0.]\n",
      "  [0. 0. 0. 0.]]\n",
      "\n",
      " [[0. 0. 0. 0.]\n",
      "  [0. 0. 0. 0.]\n",
      "  [0. 0. 0. 0.]]]\n",
      "ndim 3\n"
     ]
    }
   ],
   "source": [
    "y = np.zeros((2, 3, 4))\n",
    "print(y)\n",
    "print(\"ndim\",y.ndim)"
   ]
  },
  {
   "cell_type": "code",
   "execution_count": 18,
   "metadata": {},
   "outputs": [
    {
     "name": "stdout",
     "output_type": "stream",
     "text": [
      "[[1.+0.j 2.+0.j]\n",
      " [3.+0.j 4.+0.j]]\n"
     ]
    }
   ],
   "source": [
    "com=np.array([[1,2],[3,4]],dtype=np.complex)\n",
    "print(com)"
   ]
  },
  {
   "cell_type": "code",
   "execution_count": 22,
   "metadata": {},
   "outputs": [
    {
     "name": "stdout",
     "output_type": "stream",
     "text": [
      "[[0.+0.j 0.+0.j]\n",
      " [0.+0.j 0.+0.j]]\n"
     ]
    }
   ],
   "source": [
    "zer_copy=np.zeros_like(com)\n",
    "print(zer_copy)"
   ]
  },
  {
   "cell_type": "code",
   "execution_count": 29,
   "metadata": {},
   "outputs": [
    {
     "name": "stdout",
     "output_type": "stream",
     "text": [
      "[[0. 0.]\n",
      " [0. 0.]\n",
      " [0. 0.]]\n"
     ]
    }
   ],
   "source": [
    "np_emp=np.empty((3,2))\n",
    "print(np_emp)"
   ]
  },
  {
   "cell_type": "code",
   "execution_count": 30,
   "metadata": {},
   "outputs": [
    {
     "name": "stdout",
     "output_type": "stream",
     "text": [
      "[[1. 0. 0. 0. 0.]\n",
      " [0. 1. 0. 0. 0.]\n",
      " [0. 0. 1. 0. 0.]\n",
      " [0. 0. 0. 1. 0.]\n",
      " [0. 0. 0. 0. 1.]]\n"
     ]
    }
   ],
   "source": [
    "diag=np.eye(5)\n",
    "print(diag)"
   ]
  },
  {
   "cell_type": "code",
   "execution_count": 34,
   "metadata": {},
   "outputs": [
    {
     "name": "stdout",
     "output_type": "stream",
     "text": [
      "[1 2 3 4]\n",
      "[[0 0 0 0 0]\n",
      " [0 1 0 0 0]\n",
      " [0 0 2 0 0]\n",
      " [0 0 0 3 0]\n",
      " [0 0 0 0 4]]\n"
     ]
    }
   ],
   "source": [
    "arr=np.arange(1,5)\n",
    "print(arr)\n",
    "diagArr=np.diag(np.arange(5))\n",
    "print(diagArr)"
   ]
  },
  {
   "cell_type": "code",
   "execution_count": 42,
   "metadata": {},
   "outputs": [
    {
     "name": "stdout",
     "output_type": "stream",
     "text": [
      "[[1 2 3 1 2 3 1 2 3 1 2 3 1 2 3 1 2 3 1 2 3]\n",
      " [1 2 3 1 2 3 1 2 3 1 2 3 1 2 3 1 2 3 1 2 3]\n",
      " [1 2 3 1 2 3 1 2 3 1 2 3 1 2 3 1 2 3 1 2 3]]\n"
     ]
    }
   ],
   "source": [
    "tile=np.tile(np.array([[1,2,3]]),(3,7))\n",
    "print(tile)"
   ]
  },
  {
   "cell_type": "code",
   "execution_count": 49,
   "metadata": {},
   "outputs": [
    {
     "name": "stdout",
     "output_type": "stream",
     "text": [
      "[0 1 2 3 4 5 6 7 8 9]\n",
      "[[0 1]\n",
      " [2 3]\n",
      " [4 5]\n",
      " [6 7]\n",
      " [8 9]]\n"
     ]
    }
   ],
   "source": [
    "arrT=np.arange(10)\n",
    "print(arrT)\n",
    "print(arrT.reshape(5,2))"
   ]
  },
  {
   "cell_type": "code",
   "execution_count": 51,
   "metadata": {},
   "outputs": [
    {
     "name": "stdout",
     "output_type": "stream",
     "text": [
      "[[ 0  1  2]\n",
      " [10 11 12]\n",
      " [20 21 22]\n",
      " [30 31 32]]\n"
     ]
    }
   ],
   "source": [
    "cus=np.array([[10*j+i for i in range(3)]  for j in range(4)])\n",
    "print(cus)"
   ]
  },
  {
   "cell_type": "code",
   "execution_count": 57,
   "metadata": {},
   "outputs": [
    {
     "name": "stdout",
     "output_type": "stream",
     "text": [
      "[[1 0 0 0 0]\n",
      " [0 1 0 0 0]\n",
      " [0 0 1 0 0]\n",
      " [0 0 0 1 0]\n",
      " [0 0 0 0 1]]\n"
     ]
    }
   ],
   "source": [
    "cus=np.array([[1 if i==j else 0 for i in range(5)]  for j in range(5)])\n",
    "print(cus)"
   ]
  },
  {
   "cell_type": "code",
   "execution_count": 62,
   "metadata": {},
   "outputs": [
    {
     "name": "stdout",
     "output_type": "stream",
     "text": [
      "[ 0.  3.  6.  9. 12.]\n",
      "[[ 0.]\n",
      " [ 3.]\n",
      " [ 6.]\n",
      " [ 9.]\n",
      " [12.]]\n"
     ]
    }
   ],
   "source": [
    "lins=np.linspace(0,12,5)\n",
    "print(lins)\n",
    "linsv=lins[:,np.newaxis]\n",
    "print(linsv)"
   ]
  },
  {
   "cell_type": "code",
   "execution_count": 68,
   "metadata": {},
   "outputs": [
    {
     "name": "stdout",
     "output_type": "stream",
     "text": [
      "[ 1.  7. 13. 19. 25.]\n",
      "[[ 1.]\n",
      " [ 7.]\n",
      " [13.]\n",
      " [19.]\n",
      " [25.]]\n"
     ]
    }
   ],
   "source": [
    "linsA=np.linspace(1,25,5)\n",
    "print(linsA)\n",
    "linsAV=linsA[:,np.newaxis]\n",
    "print(linsAV)"
   ]
  },
  {
   "cell_type": "code",
   "execution_count": 72,
   "metadata": {},
   "outputs": [
    {
     "name": "stdout",
     "output_type": "stream",
     "text": [
      "[[0 0 0]\n",
      " [1 1 1]\n",
      " [2 2 2]]\n",
      "[[2 3 4]\n",
      " [2 3 4]\n",
      " [2 3 4]]\n"
     ]
    }
   ],
   "source": [
    "X,Y = np.mgrid[0:3,2:5]\n",
    "print(X)\n",
    "print(Y)"
   ]
  },
  {
   "cell_type": "code",
   "execution_count": 76,
   "metadata": {},
   "outputs": [
    {
     "name": "stdout",
     "output_type": "stream",
     "text": [
      "[[0.10904605 0.62324805 0.18881692 0.20107244 0.13478067 0.86393489]\n",
      " [0.81461517 0.53649096 0.25074668 0.51620818 0.31106239 0.88355389]\n",
      " [0.6043742  0.90449967 0.01598908 0.33149266 0.86851752 0.70305044]\n",
      " [0.8908359  0.37998581 0.84779431 0.66617039 0.05857461 0.32906777]\n",
      " [0.1728545  0.27134986 0.78460265 0.77496995 0.70972636 0.33719292]]\n",
      "[[0.         0.62324805 0.         0.20107244 0.         0.86393489]\n",
      " [0.81461517 0.53649096 0.25074668 0.51620818 0.31106239 0.88355389]\n",
      " [0.6043742  0.90449967 0.         0.33149266 0.86851752 0.70305044]\n",
      " [0.8908359  0.37998581 0.84779431 0.66617039 0.         0.32906777]\n",
      " [0.         0.27134986 0.78460265 0.77496995 0.70972636 0.33719292]]\n"
     ]
    }
   ],
   "source": [
    "from scipy import sparse\n",
    "ranM = np.random.random((5,6))\n",
    "print(ranM)\n",
    "ranM[ranM<0.2]=0\n",
    "print(ranM)"
   ]
  },
  {
   "cell_type": "code",
   "execution_count": null,
   "metadata": {},
   "outputs": [],
   "source": []
  }
 ],
 "metadata": {
  "kernelspec": {
   "display_name": "Python 3",
   "language": "python",
   "name": "python3"
  },
  "language_info": {
   "codemirror_mode": {
    "name": "ipython",
    "version": 3
   },
   "file_extension": ".py",
   "mimetype": "text/x-python",
   "name": "python",
   "nbconvert_exporter": "python",
   "pygments_lexer": "ipython3",
   "version": "3.7.6"
  }
 },
 "nbformat": 4,
 "nbformat_minor": 4
}
