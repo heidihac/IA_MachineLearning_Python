{
 "cells": [
  {
   "cell_type": "markdown",
   "metadata": {},
   "source": [
    "## Random Walks"
   ]
  },
  {
   "cell_type": "code",
   "execution_count": 5,
   "metadata": {},
   "outputs": [],
   "source": [
    "import random\n",
    "numero_random_walks=25\n",
    "rnd_seed = 1234\n",
    "random.seed(rnd_seed)"
   ]
  },
  {
   "cell_type": "code",
   "execution_count": 6,
   "metadata": {},
   "outputs": [],
   "source": [
    "\n",
    "def random_walk(n):\n",
    "    x = 0\n",
    "    y = 0\n",
    "    for i in range(n):\n",
    "        step = random.choice([\"N\",\"S\",\"E\",\"O\"],)\n",
    "        if step == \"N\":\n",
    "            y = y+1\n",
    "        if step == \"S\":\n",
    "            y = y-1\n",
    "        if step == \"E\":\n",
    "            x = x+1\n",
    "        if step == \"O\":\n",
    "            x = x-1\n",
    "    return x,y\n",
    "        \n",
    "        "
   ]
  },
  {
   "cell_type": "code",
   "execution_count": 15,
   "metadata": {},
   "outputs": [
    {
     "name": "stdout",
     "output_type": "stream",
     "text": [
      "(1, 1) Disance from home 2\n",
      "(-1, -1) Disance from home 0\n",
      "(4, 2) Disance from home 6\n",
      "(-1, -1) Disance from home 0\n",
      "(-2, -2) Disance from home 0\n",
      "(1, -1) Disance from home 2\n",
      "(-1, -1) Disance from home 0\n",
      "(-1, -1) Disance from home 0\n",
      "(0, 0) Disance from home 0\n",
      "(2, 4) Disance from home 6\n",
      "(0, 0) Disance from home 0\n",
      "(-1, 1) Disance from home 0\n",
      "(1, 1) Disance from home 2\n",
      "(1, -3) Disance from home 4\n",
      "(1, 1) Disance from home 2\n",
      "(4, 0) Disance from home 4\n",
      "(-1, -1) Disance from home 0\n",
      "(3, 1) Disance from home 4\n",
      "(-5, -1) Disance from home 4\n",
      "(0, 2) Disance from home 2\n",
      "(-1, -1) Disance from home 0\n",
      "(-3, -1) Disance from home 2\n",
      "(-1, -1) Disance from home 0\n",
      "(0, -4) Disance from home 4\n",
      "(0, 2) Disance from home 2\n"
     ]
    }
   ],
   "source": [
    "for i in range(numero_random_walks):\n",
    "    walk = random_walk(10)\n",
    "    print(walk,\"Disance from home\",abs(walk[0]+abs(walk[1])))\n"
   ]
  },
  {
   "cell_type": "markdown",
   "metadata": {},
   "source": [
    "### Motecarlo"
   ]
  },
  {
   "cell_type": "code",
   "execution_count": 17,
   "metadata": {},
   "outputs": [
    {
     "name": "stdout",
     "output_type": "stream",
     "text": [
      "Walk size= 1 /% cont 100.0\n",
      "Walk size= 2 /% cont 100.0\n",
      "Walk size= 3 /% cont 100.0\n",
      "Walk size= 4 /% cont 100.0\n",
      "Walk size= 5 /% cont 87.5\n",
      "Walk size= 6 /% cont 94.01\n",
      "Walk size= 7 /% cont 76.03999999999999\n",
      "Walk size= 8 /% cont 86.48\n",
      "Walk size= 9 /% cont 67.35\n",
      "Walk size= 10 /% cont 79.79\n",
      "Walk size= 11 /% cont 59.709999999999994\n",
      "Walk size= 12 /% cont 72.68\n",
      "Walk size= 13 /% cont 53.99\n",
      "Walk size= 14 /% cont 67.03\n",
      "Walk size= 15 /% cont 48.870000000000005\n",
      "Walk size= 16 /% cont 62.51\n",
      "Walk size= 17 /% cont 44.22\n",
      "Walk size= 18 /% cont 59.03\n",
      "Walk size= 19 /% cont 40.44\n",
      "Walk size= 20 /% cont 54.400000000000006\n",
      "Walk size= 21 /% cont 37.96\n",
      "Walk size= 22 /% cont 50.9\n",
      "Walk size= 23 /% cont 36.09\n",
      "Walk size= 24 /% cont 47.39\n",
      "Walk size= 25 /% cont 32.31\n",
      "Walk size= 26 /% cont 45.09\n",
      "Walk size= 27 /% cont 31.130000000000003\n",
      "Walk size= 28 /% cont 42.93\n",
      "Walk size= 29 /% cont 28.87\n",
      "Walk size= 30 /% cont 40.78\n"
     ]
    }
   ],
   "source": [
    "number_of_walks=10000\n",
    "#Number of walks fewer 4 blocks\n",
    "for walk_length in range(1,31):\n",
    "    count = 0\n",
    "    for i in range(number_of_walks):\n",
    "        (x,y) = random_walk(walk_length)\n",
    "        distance= abs(x)+abs(y)\n",
    "        if distance <= 4:\n",
    "            count+= 1\n",
    "    count_avg = float(count)/number_of_walks\n",
    "    print(\"Walk size=\",walk_length,\"/% cont\",100*count_avg)\n",
    "    \n",
    "    "
   ]
  }
 ],
 "metadata": {
  "kernelspec": {
   "display_name": "Python 3",
   "language": "python",
   "name": "python3"
  },
  "language_info": {
   "codemirror_mode": {
    "name": "ipython",
    "version": 3
   },
   "file_extension": ".py",
   "mimetype": "text/x-python",
   "name": "python",
   "nbconvert_exporter": "python",
   "pygments_lexer": "ipython3",
   "version": "3.7.6"
  }
 },
 "nbformat": 4,
 "nbformat_minor": 4
}
