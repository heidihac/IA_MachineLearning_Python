{
 "cells": [
  {
   "cell_type": "markdown",
   "metadata": {},
   "source": [
    "# PML-CAP10-Revisiting statistics"
   ]
  },
  {
   "cell_type": "code",
   "execution_count": 2,
   "metadata": {},
   "outputs": [
    {
     "data": {
      "text/html": [
       "<div>\n",
       "<style scoped>\n",
       "    .dataframe tbody tr th:only-of-type {\n",
       "        vertical-align: middle;\n",
       "    }\n",
       "\n",
       "    .dataframe tbody tr th {\n",
       "        vertical-align: top;\n",
       "    }\n",
       "\n",
       "    .dataframe thead th {\n",
       "        text-align: right;\n",
       "    }\n",
       "</style>\n",
       "<table border=\"1\" class=\"dataframe\">\n",
       "  <thead>\n",
       "    <tr style=\"text-align: right;\">\n",
       "      <th></th>\n",
       "      <th>MODELYEAR</th>\n",
       "      <th>MAKE</th>\n",
       "      <th>MODEL</th>\n",
       "      <th>VEHICLECLASS</th>\n",
       "      <th>ENGINESIZE</th>\n",
       "      <th>CYLINDERS</th>\n",
       "      <th>TRANSMISSION</th>\n",
       "      <th>FUELTYPE</th>\n",
       "      <th>FUELCONSUMPTION_CITY</th>\n",
       "      <th>FUELCONSUMPTION_HWY</th>\n",
       "      <th>FUELCONSUMPTION_COMB</th>\n",
       "      <th>FUELCONSUMPTION_COMB_MPG</th>\n",
       "      <th>CO2EMISSIONS</th>\n",
       "    </tr>\n",
       "  </thead>\n",
       "  <tbody>\n",
       "    <tr>\n",
       "      <th>0</th>\n",
       "      <td>2014</td>\n",
       "      <td>ACURA</td>\n",
       "      <td>ILX</td>\n",
       "      <td>COMPACT</td>\n",
       "      <td>2.0</td>\n",
       "      <td>4</td>\n",
       "      <td>AS5</td>\n",
       "      <td>Z</td>\n",
       "      <td>9.9</td>\n",
       "      <td>6.7</td>\n",
       "      <td>8.5</td>\n",
       "      <td>33</td>\n",
       "      <td>196</td>\n",
       "    </tr>\n",
       "    <tr>\n",
       "      <th>1</th>\n",
       "      <td>2014</td>\n",
       "      <td>ACURA</td>\n",
       "      <td>ILX</td>\n",
       "      <td>COMPACT</td>\n",
       "      <td>2.4</td>\n",
       "      <td>4</td>\n",
       "      <td>M6</td>\n",
       "      <td>Z</td>\n",
       "      <td>11.2</td>\n",
       "      <td>7.7</td>\n",
       "      <td>9.6</td>\n",
       "      <td>29</td>\n",
       "      <td>221</td>\n",
       "    </tr>\n",
       "    <tr>\n",
       "      <th>2</th>\n",
       "      <td>2014</td>\n",
       "      <td>ACURA</td>\n",
       "      <td>ILX HYBRID</td>\n",
       "      <td>COMPACT</td>\n",
       "      <td>1.5</td>\n",
       "      <td>4</td>\n",
       "      <td>AV7</td>\n",
       "      <td>Z</td>\n",
       "      <td>6.0</td>\n",
       "      <td>5.8</td>\n",
       "      <td>5.9</td>\n",
       "      <td>48</td>\n",
       "      <td>136</td>\n",
       "    </tr>\n",
       "    <tr>\n",
       "      <th>3</th>\n",
       "      <td>2014</td>\n",
       "      <td>ACURA</td>\n",
       "      <td>MDX 4WD</td>\n",
       "      <td>SUV - SMALL</td>\n",
       "      <td>3.5</td>\n",
       "      <td>6</td>\n",
       "      <td>AS6</td>\n",
       "      <td>Z</td>\n",
       "      <td>12.7</td>\n",
       "      <td>9.1</td>\n",
       "      <td>11.1</td>\n",
       "      <td>25</td>\n",
       "      <td>255</td>\n",
       "    </tr>\n",
       "    <tr>\n",
       "      <th>4</th>\n",
       "      <td>2014</td>\n",
       "      <td>ACURA</td>\n",
       "      <td>RDX AWD</td>\n",
       "      <td>SUV - SMALL</td>\n",
       "      <td>3.5</td>\n",
       "      <td>6</td>\n",
       "      <td>AS6</td>\n",
       "      <td>Z</td>\n",
       "      <td>12.1</td>\n",
       "      <td>8.7</td>\n",
       "      <td>10.6</td>\n",
       "      <td>27</td>\n",
       "      <td>244</td>\n",
       "    </tr>\n",
       "    <tr>\n",
       "      <th>5</th>\n",
       "      <td>2014</td>\n",
       "      <td>ACURA</td>\n",
       "      <td>RLX</td>\n",
       "      <td>MID-SIZE</td>\n",
       "      <td>3.5</td>\n",
       "      <td>6</td>\n",
       "      <td>AS6</td>\n",
       "      <td>Z</td>\n",
       "      <td>11.9</td>\n",
       "      <td>7.7</td>\n",
       "      <td>10.0</td>\n",
       "      <td>28</td>\n",
       "      <td>230</td>\n",
       "    </tr>\n",
       "    <tr>\n",
       "      <th>6</th>\n",
       "      <td>2014</td>\n",
       "      <td>ACURA</td>\n",
       "      <td>TL</td>\n",
       "      <td>MID-SIZE</td>\n",
       "      <td>3.5</td>\n",
       "      <td>6</td>\n",
       "      <td>AS6</td>\n",
       "      <td>Z</td>\n",
       "      <td>11.8</td>\n",
       "      <td>8.1</td>\n",
       "      <td>10.1</td>\n",
       "      <td>28</td>\n",
       "      <td>232</td>\n",
       "    </tr>\n",
       "    <tr>\n",
       "      <th>7</th>\n",
       "      <td>2014</td>\n",
       "      <td>ACURA</td>\n",
       "      <td>TL AWD</td>\n",
       "      <td>MID-SIZE</td>\n",
       "      <td>3.7</td>\n",
       "      <td>6</td>\n",
       "      <td>AS6</td>\n",
       "      <td>Z</td>\n",
       "      <td>12.8</td>\n",
       "      <td>9.0</td>\n",
       "      <td>11.1</td>\n",
       "      <td>25</td>\n",
       "      <td>255</td>\n",
       "    </tr>\n",
       "    <tr>\n",
       "      <th>8</th>\n",
       "      <td>2014</td>\n",
       "      <td>ACURA</td>\n",
       "      <td>TL AWD</td>\n",
       "      <td>MID-SIZE</td>\n",
       "      <td>3.7</td>\n",
       "      <td>6</td>\n",
       "      <td>M6</td>\n",
       "      <td>Z</td>\n",
       "      <td>13.4</td>\n",
       "      <td>9.5</td>\n",
       "      <td>11.6</td>\n",
       "      <td>24</td>\n",
       "      <td>267</td>\n",
       "    </tr>\n",
       "  </tbody>\n",
       "</table>\n",
       "</div>"
      ],
      "text/plain": [
       "   MODELYEAR   MAKE       MODEL VEHICLECLASS  ENGINESIZE  CYLINDERS  \\\n",
       "0       2014  ACURA         ILX      COMPACT         2.0          4   \n",
       "1       2014  ACURA         ILX      COMPACT         2.4          4   \n",
       "2       2014  ACURA  ILX HYBRID      COMPACT         1.5          4   \n",
       "3       2014  ACURA     MDX 4WD  SUV - SMALL         3.5          6   \n",
       "4       2014  ACURA     RDX AWD  SUV - SMALL         3.5          6   \n",
       "5       2014  ACURA         RLX     MID-SIZE         3.5          6   \n",
       "6       2014  ACURA          TL     MID-SIZE         3.5          6   \n",
       "7       2014  ACURA      TL AWD     MID-SIZE         3.7          6   \n",
       "8       2014  ACURA      TL AWD     MID-SIZE         3.7          6   \n",
       "\n",
       "  TRANSMISSION FUELTYPE  FUELCONSUMPTION_CITY  FUELCONSUMPTION_HWY  \\\n",
       "0          AS5        Z                   9.9                  6.7   \n",
       "1           M6        Z                  11.2                  7.7   \n",
       "2          AV7        Z                   6.0                  5.8   \n",
       "3          AS6        Z                  12.7                  9.1   \n",
       "4          AS6        Z                  12.1                  8.7   \n",
       "5          AS6        Z                  11.9                  7.7   \n",
       "6          AS6        Z                  11.8                  8.1   \n",
       "7          AS6        Z                  12.8                  9.0   \n",
       "8           M6        Z                  13.4                  9.5   \n",
       "\n",
       "   FUELCONSUMPTION_COMB  FUELCONSUMPTION_COMB_MPG  CO2EMISSIONS  \n",
       "0                   8.5                        33           196  \n",
       "1                   9.6                        29           221  \n",
       "2                   5.9                        48           136  \n",
       "3                  11.1                        25           255  \n",
       "4                  10.6                        27           244  \n",
       "5                  10.0                        28           230  \n",
       "6                  10.1                        28           232  \n",
       "7                  11.1                        25           255  \n",
       "8                  11.6                        24           267  "
      ]
     },
     "execution_count": 2,
     "metadata": {},
     "output_type": "execute_result"
    }
   ],
   "source": [
    "import pandas as pd\n",
    "import numpy as np\n",
    "import matplotlib.pyplot as plt\n",
    "df=pd.read_csv(\"csv/FuelConsumptionCo2.csv\")\n",
    "df.head(9)"
   ]
  },
  {
   "cell_type": "code",
   "execution_count": 36,
   "metadata": {},
   "outputs": [
    {
     "name": "stdout",
     "output_type": "stream",
     "text": [
      "mean ENGINESIZE        3.339669\n",
      "CYLINDERS         5.783943\n",
      "CO2EMISSIONS    256.141677\n",
      "dtype: float64\n"
     ]
    },
    {
     "data": {
      "image/png": "[encoded data removed]",
      "text/plain": [
       "<Figure size 432x288 with 1 Axes>"
      ]
     },
     "metadata": {
      "needs_background": "light"
     },
     "output_type": "display_data"
    }
   ],
   "source": [
    "cdf=df[['ENGINESIZE','CYLINDERS','CO2EMISSIONS']]\n",
    "msk=np.random.rand(len(df))<0.8\n",
    "train=cdf[msk]\n",
    "test=cdf[~msk]\n",
    "print('mean',np.mean(train))\n",
    "plt.scatter(train['ENGINESIZE'],train['CO2EMISSIONS'])\n",
    "plt.show()\n"
   ]
  },
  {
   "cell_type": "markdown",
   "metadata": {},
   "source": [
    "### Mean Median Mode"
   ]
  },
  {
   "cell_type": "code",
   "execution_count": 4,
   "metadata": {},
   "outputs": [
    {
     "name": "stdout",
     "output_type": "stream",
     "text": [
      "mean  3.33349225268176\n",
      "mean 3.3334922526817636\n",
      "median 3.3\n",
      "mode ModeResult(mode=array([2.]), count=array([119]))\n"
     ]
    }
   ],
   "source": [
    "from scipy import stats\n",
    "pobl_x=cdf['ENGINESIZE']\n",
    "train_x=train['ENGINESIZE']\n",
    "print('mean ',np.mean(train_x))\n",
    "print('mean',np.sum(train_x)/len(train_x))\n",
    "print('median',np.median(train_x))\n",
    "print('mode',stats.mode(train_x))"
   ]
  },
  {
   "cell_type": "markdown",
   "metadata": {},
   "source": [
    "### Variance"
   ]
  },
  {
   "cell_type": "code",
   "execution_count": 5,
   "metadata": {},
   "outputs": [
    {
     "name": "stdout",
     "output_type": "stream",
     "text": [
      "N 839\n",
      "sig 1.2492505223422155\n",
      "std 1.4096449508545548\n"
     ]
    },
    {
     "data": {
      "text/plain": [
       "count    839.000000\n",
       "mean       3.333492\n",
       "std        1.409645\n",
       "min        1.000000\n",
       "25%        2.000000\n",
       "50%        3.300000\n",
       "75%        4.200000\n",
       "max        8.400000\n",
       "Name: ENGINESIZE, dtype: float64"
      ]
     },
     "execution_count": 5,
     "metadata": {},
     "output_type": "execute_result"
    }
   ],
   "source": [
    "import math\n",
    "N=len(train_x)\n",
    "print('N',N)\n",
    "#Desviacion tipica sig=sqrt(1/N*SUM(x-med(x))^2)\n",
    "print('sig',math.sqrt(1*np.sum(pow(train_x-np.mean(train_x),2))/len(pobl_x)))\n",
    "#Desviacion Standar  sig=sqrt(1/(N-1)*SUM(x-med(x))^2)\n",
    "std=math.sqrt(1*np.sum(pow(train_x-np.mean(train_x),2))/(N-1))\n",
    "print('std',std)\n",
    "V=pow(std,2)\n",
    "train_x.describe()"
   ]
  },
  {
   "cell_type": "markdown",
   "metadata": {},
   "source": [
    "### Symmetric"
   ]
  },
  {
   "cell_type": "code",
   "execution_count": 6,
   "metadata": {},
   "outputs": [
    {
     "name": "stdout",
     "output_type": "stream",
     "text": [
      "Sym True\n"
     ]
    }
   ],
   "source": [
    "rtol=1e-05\n",
    "atol=1e-08\n",
    "sym=np.allclose(train_x, train_x.T, rtol=rtol, atol=atol)\n",
    "print('Sym',sym)"
   ]
  },
  {
   "cell_type": "markdown",
   "metadata": {},
   "source": [
    "### Covariance and Correlation Coeficient"
   ]
  },
  {
   "cell_type": "code",
   "execution_count": 7,
   "metadata": {},
   "outputs": [
    {
     "name": "stdout",
     "output_type": "stream",
     "text": [
      "Cov Pxy 77.06927936515604\n",
      "STD X 1.4096449508545545\n",
      "STD Y 62.73331649073139\n",
      "Cov Pxy 0.8715118774007214\n"
     ]
    }
   ],
   "source": [
    "train_x=train['ENGINESIZE']\n",
    "train_y=train['CO2EMISSIONS']\n",
    "Pxy=np.sum((train_x-np.mean(train_x))*(train_y-np.mean(train_y)))/len(train_x)\n",
    "print('Cov Pxy',Pxy)\n",
    "stats_x=train_x.describe()\n",
    "stats_y=train_y.describe()\n",
    "print('STD X',stats_x['std'])\n",
    "print('STD Y',stats_y['std'])\n",
    "Cxy=Pxy/(stats_x['std']*stats_y['std'])\n",
    "print('Cov Pxy',Cxy)"
   ]
  },
  {
   "cell_type": "markdown",
   "metadata": {},
   "source": [
    "### Covariance issue"
   ]
  },
  {
   "cell_type": "code",
   "execution_count": 12,
   "metadata": {},
   "outputs": [
    {
     "name": "stdout",
     "output_type": "stream",
     "text": [
      "Pxy 5.800953516190828\n",
      "Cxy 0.05071674319978582\n"
     ]
    }
   ],
   "source": [
    "train_x=train['CYLINDERS']\n",
    "train_y=train['CO2EMISSIONS']\n",
    "Pxy=np.sum(train_x-np.mean(train_x)*np.sum(train_y-np.mean(train_y)))/len(train_x)\n",
    "print('Pxy',Pxy)\n",
    "stats_x=train_x.describe()\n",
    "stats_y=train_y.describe()\n",
    "Cxy=Pxy/(stats_x['std']*stats_y['std'])\n",
    "print('Cxy',Cxy)"
   ]
  },
  {
   "cell_type": "markdown",
   "metadata": {},
   "source": [
    "### Add Columns"
   ]
  },
  {
   "cell_type": "code",
   "execution_count": 39,
   "metadata": {},
   "outputs": [
    {
     "name": "stdout",
     "output_type": "stream",
     "text": [
      "covM               ENGINESIZE  CYLINDERS  CO2EMISSIONS\n",
      "ENGINESIZE      2.075209   2.439314     80.363758\n",
      "CYLINDERS       2.439314   3.287780     97.820244\n",
      "CO2EMISSIONS   80.363758  97.820244   4045.362883\n",
      "(1, 3)\n",
      "(3, 1)\n",
      "stdMatriz [[2.07520935e+00 2.61205497e+00 9.16240954e+01]\n",
      " [2.61205497e+00 3.28777970e+00 1.15326762e+02]\n",
      " [9.16240954e+01 1.15326762e+02 4.04536288e+03]]\n",
      "corrM               ENGINESIZE  CYLINDERS  CO2EMISSIONS\n",
      "ENGINESIZE      1.000000   0.933868      0.877103\n",
      "CYLINDERS       0.933868   1.000000      0.848201\n",
      "CO2EMISSIONS    0.877103   0.848201      1.000000\n",
      "corrM               ENGINESIZE  CYLINDERS  CO2EMISSIONS\n",
      "ENGINESIZE      1.000000   0.933868      0.877103\n",
      "CYLINDERS       0.933868   1.000000      0.848201\n",
      "CO2EMISSIONS    0.877103   0.848201      1.000000\n"
     ]
    }
   ],
   "source": [
    "train_mean_cov=train\n",
    "Pxy=train_mean_cov.cov()\n",
    "print('covM',Pxy)\n",
    "stats_x=train_mean_cov['ENGINESIZE'].describe()\n",
    "stats_y=train_mean_cov['CYLINDERS'].describe()\n",
    "stats_z=train_mean_cov['CO2EMISSIONS'].describe()\n",
    "rowSdxyz=np.array([[stats_x['std'],stats_y['std'],stats_z['std']]])\n",
    "colSxyz=rowSdxyz[0][:,np.newaxis]\n",
    "print(rowSdxyz.shape)\n",
    "print(colSxyz.shape)\n",
    "sxyzM=colSxyz*rowSdxyz\n",
    "print('stdMatriz',sxyzM)\n",
    "print('corrM',Pxy/sxyzM)\n",
    "print('corrM',train_mean_cov.corr())"
   ]
  },
  {
   "cell_type": "code",
   "execution_count": null,
   "metadata": {},
   "outputs": [],
   "source": []
  }
 ],
 "metadata": {
  "kernelspec": {
   "display_name": "Python 3",
   "language": "python",
   "name": "python3"
  },
  "language_info": {
   "codemirror_mode": {
    "name": "ipython",
    "version": 3
   },
   "file_extension": ".py",
   "mimetype": "text/x-python",
   "name": "python",
   "nbconvert_exporter": "python",
   "pygments_lexer": "ipython3",
   "version": "3.7.6"
  }
 },
 "nbformat": 4,
 "nbformat_minor": 4
}
