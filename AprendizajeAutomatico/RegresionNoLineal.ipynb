{
 "cells": [
  {
   "cell_type": "markdown",
   "metadata": {},
   "source": [
    "### Regresion No Lineal"
   ]
  },
  {
   "cell_type": "code",
   "execution_count": 8,
   "metadata": {},
   "outputs": [
    {
     "data": {
      "text/html": [
       "<div>\n",
       "<style scoped>\n",
       "    .dataframe tbody tr th:only-of-type {\n",
       "        vertical-align: middle;\n",
       "    }\n",
       "\n",
       "    .dataframe tbody tr th {\n",
       "        vertical-align: top;\n",
       "    }\n",
       "\n",
       "    .dataframe thead th {\n",
       "        text-align: right;\n",
       "    }\n",
       "</style>\n",
       "<table border=\"1\" class=\"dataframe\">\n",
       "  <thead>\n",
       "    <tr style=\"text-align: right;\">\n",
       "      <th></th>\n",
       "      <th>Year</th>\n",
       "      <th>Value</th>\n",
       "    </tr>\n",
       "  </thead>\n",
       "  <tbody>\n",
       "    <tr>\n",
       "      <th>count</th>\n",
       "      <td>55.00000</td>\n",
       "      <td>5.500000e+01</td>\n",
       "    </tr>\n",
       "    <tr>\n",
       "      <th>mean</th>\n",
       "      <td>1987.00000</td>\n",
       "      <td>1.437042e+12</td>\n",
       "    </tr>\n",
       "    <tr>\n",
       "      <th>std</th>\n",
       "      <td>16.02082</td>\n",
       "      <td>2.500085e+12</td>\n",
       "    </tr>\n",
       "    <tr>\n",
       "      <th>min</th>\n",
       "      <td>1960.00000</td>\n",
       "      <td>4.668518e+10</td>\n",
       "    </tr>\n",
       "    <tr>\n",
       "      <th>25%</th>\n",
       "      <td>1973.50000</td>\n",
       "      <td>1.395123e+11</td>\n",
       "    </tr>\n",
       "    <tr>\n",
       "      <th>50%</th>\n",
       "      <td>1987.00000</td>\n",
       "      <td>3.074796e+11</td>\n",
       "    </tr>\n",
       "    <tr>\n",
       "      <th>75%</th>\n",
       "      <td>2000.50000</td>\n",
       "      <td>1.268748e+12</td>\n",
       "    </tr>\n",
       "    <tr>\n",
       "      <th>max</th>\n",
       "      <td>2014.00000</td>\n",
       "      <td>1.035483e+13</td>\n",
       "    </tr>\n",
       "  </tbody>\n",
       "</table>\n",
       "</div>"
      ],
      "text/plain": [
       "             Year         Value\n",
       "count    55.00000  5.500000e+01\n",
       "mean   1987.00000  1.437042e+12\n",
       "std      16.02082  2.500085e+12\n",
       "min    1960.00000  4.668518e+10\n",
       "25%    1973.50000  1.395123e+11\n",
       "50%    1987.00000  3.074796e+11\n",
       "75%    2000.50000  1.268748e+12\n",
       "max    2014.00000  1.035483e+13"
      ]
     },
     "execution_count": 8,
     "metadata": {},
     "output_type": "execute_result"
    }
   ],
   "source": [
    "import numpy as np\n",
    "import pandas as pd\n",
    "import matplotlib.pyplot as plt\n",
    "df = pd.read_csv(\"csv/china_gdp.csv\")\n",
    "df.head()\n",
    "df.describe()"
   ]
  },
  {
   "cell_type": "markdown",
   "metadata": {},
   "source": [
    "### Se grafica los datos del universo"
   ]
  },
  {
   "cell_type": "code",
   "execution_count": 9,
   "metadata": {},
   "outputs": [
    {
     "data": {
      "image/png": "[encoded data removed]",
      "text/plain": [
       "<Figure size 432x288 with 1 Axes>"
      ]
     },
     "metadata": {
      "needs_background": "light"
     },
     "output_type": "display_data"
    }
   ],
   "source": [
    "cdf=df[['Year','Value']]\n",
    "cdf.head(9)\n",
    "plt.scatter(cdf.Year,cdf.Value)\n",
    "plt.xlabel('Year')\n",
    "plt.ylabel('Year')\n",
    "plt.show()"
   ]
  },
  {
   "cell_type": "code",
   "execution_count": 10,
   "metadata": {},
   "outputs": [
    {
     "data": {
      "image/png": "[encoded data removed]",
      "text/plain": [
       "<Figure size 432x288 with 1 Axes>"
      ]
     },
     "metadata": {
      "needs_background": "light"
     },
     "output_type": "display_data"
    }
   ],
   "source": [
    "x_data,y_data = (df[\"Year\"].values,df[\"Value\"].values)\n",
    "plt.scatter(x_data,y_data)\n",
    "plt.xlabel('Year')\n",
    "plt.ylabel('Value')\n",
    "plt.show()"
   ]
  },
  {
   "cell_type": "markdown",
   "metadata": {},
   "source": [
    "<!-- # Se selecciona el conjunto de datos de Entrenamiento y de **Prueba**  -->"
   ]
  },
  {
   "cell_type": "markdown",
   "metadata": {},
   "source": [
    "# Se selecciona el conjunto de datos de prueba y de test "
   ]
  },
  {
   "cell_type": "code",
   "execution_count": 11,
   "metadata": {},
   "outputs": [
    {
     "name": "stdout",
     "output_type": "stream",
     "text": [
      "[ True False  True  True  True  True  True False  True  True  True  True\n",
      " False  True  True  True False  True  True  True  True  True  True  True\n",
      "  True False  True  True  True  True  True False  True  True  True False\n",
      "  True  True False  True  True False  True  True  True  True  True  True\n",
      "  True False  True False  True  True  True]\n",
      "train ,test 44 11\n"
     ]
    }
   ],
   "source": [
    "msk=np.random.rand(len(df))<0.8\n",
    "msk=np.random.rand(len(df))<0.8\n",
    "print(msk)\n",
    "train=df[msk]\n",
    "test=df[~msk]\n",
    "print('train ,test',len(train),len(test))\n"
   ]
  },
  {
   "cell_type": "markdown",
   "metadata": {},
   "source": [
    "### Grafica de los datos de train"
   ]
  },
  {
   "cell_type": "code",
   "execution_count": 12,
   "metadata": {},
   "outputs": [
    {
     "data": {
      "image/png": "[encoded data removed]",
      "text/plain": [
       "<Figure size 432x288 with 1 Axes>"
      ]
     },
     "metadata": {
      "needs_background": "light"
     },
     "output_type": "display_data"
    }
   ],
   "source": [
    "plt.scatter(train.Year,train.Value)\n",
    "plt.xlabel('Train Year')\n",
    "plt.ylabel('Train Value')\n",
    "plt.show()"
   ]
  },
  {
   "cell_type": "markdown",
   "metadata": {},
   "source": [
    "### Aplicamos Regresion\n"
   ]
  },
  {
   "cell_type": "code",
   "execution_count": 13,
   "metadata": {},
   "outputs": [
    {
     "name": "stdout",
     "output_type": "stream",
     "text": [
      "[[1.14497375e+11]]\n",
      "[-2.26066464e+14]\n"
     ]
    }
   ],
   "source": [
    "from sklearn import linear_model\n",
    "regr=linear_model.LinearRegression()\n",
    "train_x=train[['Year']]\n",
    "train_y=train[['Value']]\n",
    "regr.fit(train_x,train_y)\n",
    "print(regr.coef_)\n",
    "print(regr.intercept_)\n"
   ]
  },
  {
   "cell_type": "markdown",
   "metadata": {},
   "source": [
    "# Se genera el modelo (FUNCION ESPERADA)"
   ]
  },
  {
   "cell_type": "code",
   "execution_count": 14,
   "metadata": {},
   "outputs": [
    {
     "data": {
      "image/png": "[encoded data removed]",
      "text/plain": [
       "<Figure size 432x288 with 1 Axes>"
      ]
     },
     "metadata": {
      "needs_background": "light"
     },
     "output_type": "display_data"
    }
   ],
   "source": [
    "Ey=regr.intercept_[0]+regr.coef_[0][0]*train_x\n",
    "plt.scatter(train_x,train_y)\n",
    "plt.plot(train_x,Ey,'-r')\n",
    "plt.plot(train_x,train_y,'-b')\n",
    "plt.plot(train_x,np.log(train_y),'-b')\n",
    "EyLog=regr.coef_[0][0]*np.log(train_x,)\n",
    "plt.plot(train_x,EyLog,'-g')\n",
    "plt.show()"
   ]
  },
  {
   "cell_type": "markdown",
   "metadata": {},
   "source": [
    "# Se genera el modelo (FUNCION ESPERADA)"
   ]
  },
  {
   "cell_type": "code",
   "execution_count": 18,
   "metadata": {},
   "outputs": [
    {
     "name": "stdout",
     "output_type": "stream",
     "text": [
      "(44, 1)\n",
      "x_hstack shape (44, 4)\n",
      "x_train shape (44, 1)\n",
      "Coef [[ 6.41761629e+08  8.50210740e+11 -5.72579997e+08  1.08450154e+05]]\n",
      "Intercept [-5.55405432e+17]\n"
     ]
    }
   ],
   "source": [
    "regr=linear_model.LinearRegression()\n",
    "train_x=np.asanyarray(train[['Year']])\n",
    "train_y=np.asanyarray(train[['Value']])\n",
    "train_new_x=np.hstack([train_x,train_x**2,train_x**3,train_x**4])\n",
    "print(train_x.shape)\n",
    "print('x_hstack shape',train_new_x.shape)\n",
    "print('x_train shape',train_x.shape)\n",
    "regr.fit(train_new_x,train_y)\n",
    "print('Coef',regr.coef_)\n",
    "print('Intercept',regr.intercept_)\n"
   ]
  },
  {
   "cell_type": "markdown",
   "metadata": {},
   "source": [
    "# Evaluacion Test Prueba"
   ]
  },
  {
   "cell_type": "code",
   "execution_count": 19,
   "metadata": {},
   "outputs": [
    {
     "name": "stdout",
     "output_type": "stream",
     "text": [
      "(11, 1)\n",
      "x_hstack shape (11, 4)\n",
      "x_train shape (11, 1)\n",
      "Coef [[ 6.41761629e+08  8.50210740e+11 -5.72579997e+08  1.08450154e+05]]\n",
      "Intercept [-5.55405432e+17]\n"
     ]
    },
    {
     "data": {
      "image/png": "[encoded data removed]",
      "text/plain": [
       "<Figure size 432x288 with 1 Axes>"
      ]
     },
     "metadata": {
      "needs_background": "light"
     },
     "output_type": "display_data"
    }
   ],
   "source": [
    "test_x=np.asanyarray(test[['Year']])\n",
    "test_y=np.asanyarray(test[['Value']])\n",
    "test_new_x=np.hstack([test_x,test_x**2,test_x**3,test_x**4])\n",
    "print(test_x.shape)\n",
    "print('x_hstack shape',test_new_x.shape)\n",
    "print('x_train shape',test_x.shape)\n",
    "pred_Ey = regr.predict(test_new_x)\n",
    "print('Coef',regr.coef_)\n",
    "print('Intercept',regr.intercept_)\n",
    "plt.scatter(test_x,test_y)\n",
    "plt.plot(test_x,pred_Ey,'-r')\n",
    "plt.show()"
   ]
  },
  {
   "cell_type": "code",
   "execution_count": 37,
   "metadata": {},
   "outputs": [
    {
     "name": "stdout",
     "output_type": "stream",
     "text": [
      "MAE 404834564492.0887\n",
      "MSE 1.7575774291987644e+23\n",
      "RMSE 419234711015.05475\n",
      "RAE 0.23406677065252193\n",
      "RSE 0.03223405855412875\n",
      "R2 0.9677659414458712\n"
     ]
    }
   ],
   "source": [
    "import math\n",
    "mae=np.mean(np.absolute(test_y-pred_Ey))\n",
    "print('MAE',mae)\n",
    "mse=np.mean(pow(test_y-pred_Ey,2))\n",
    "print('MSE',mse)\n",
    "rmse=math.sqrt(mse)\n",
    "print('RMSE',rmse)\n",
    "rae=np.sum(np.absolute(test_y-pred_Ey))/np.sum(np.absolute(test_y-np.mean(test_y)))\n",
    "print('RAE',rae)\n",
    "rse=np.sum(pow(test_y-pred_Ey,2))/np.sum(pow(test_y-np.mean(test_y),2))\n",
    "print('RSE',rse)\n",
    "r2=1-rse\n",
    "print('R2',r2)"
   ]
  },
  {
   "cell_type": "code",
   "execution_count": 40,
   "metadata": {},
   "outputs": [
    {
     "name": "stdout",
     "output_type": "stream",
     "text": [
      "MAE 404834564492.0887\n",
      "MSE 1.7575774291987644e+23\n",
      "R2 0.9677659414458712\n",
      "RSE 0.03223405855412875\n"
     ]
    }
   ],
   "source": [
    "from sklearn.metrics import mean_absolute_error\n",
    "from sklearn.metrics import mean_squared_error\n",
    "from sklearn.metrics import r2_score\n",
    "mae=mean_absolute_error(test_y,pred_Ey)\n",
    "print('MAE',mae)\n",
    "mse=mean_squared_error(test_y,pred_Ey)\n",
    "print('MSE',mse)\n",
    "r2=r2_score(test_y,pred_Ey)\n",
    "print('R2',r2)\n",
    "RSE=1-r2\n",
    "print('RSE',RSE)"
   ]
  }
 ],
 "metadata": {
  "kernelspec": {
   "display_name": "Python 3",
   "language": "python",
   "name": "python3"
  },
  "language_info": {
   "codemirror_mode": {
    "name": "ipython",
    "version": 3
   },
   "file_extension": ".py",
   "mimetype": "text/x-python",
   "name": "python",
   "nbconvert_exporter": "python",
   "pygments_lexer": "ipython3",
   "version": "3.7.6"
  }
 },
 "nbformat": 4,
 "nbformat_minor": 4
}
